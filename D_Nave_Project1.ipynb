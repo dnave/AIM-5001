{
 "cells": [
  {
   "cell_type": "markdown",
   "metadata": {},
   "source": [
    "# Project 1:\n",
    "### Team Members: Dana Nave, Jinming Chen, Marla Goodman"
   ]
  },
  {
   "cell_type": "markdown",
   "metadata": {},
   "source": [
    "# Introduction:\n",
    "\n",
    "Our client is an investor located in Houston, TX. He is interested in investing in the airline industry. Therefore, he is looking to learn more about the strengths and weaknesses of local airlines. The better an airline is, the more it can withstand global changes, such as fluctuating oil prices and other socioeconomic events. In addition to the airline industry, our investor might like to understand some of the local business opportunities related to the industry.\n",
    "\n",
    "### The client wants to know the following:\n",
    "\n",
    "#### 1) Which airline has the highest number of flights out of Houston? What is the difference between the top five airlines?\n",
    "\n",
    "The number of flights out of Houston allows the investor to have a better understanding of airline operation out of the Houston airports. A higher number of flights can be an indication of the industry leaders in that location. The more a product is used, the more likely it will be a good product to invest in. We plan to summarize the data based on the busiest carrier leaving from the Houston airports. We will only present the top 5 results.\n",
    "\n",
    "#### 2) Which five carriers have the highest average arrival delays and highest average departure delays?\n",
    "\n",
    "The answers here are important because they show the strengths and weaknesses of each carrier. An airline with a high average of delays would discourage people from using that airline. This in turn would lower business for the airline, resulting in lower profits. Our investor would want to avoid investing in a product that has a major weakness and subsequent loss of business. We will summarize the data based on the average number of both arrival delays and departure delays of each of the carriers operating in Houston. We will present the top 5 results for each of the delay options.\n",
    "\n",
    "#### 3) What are the most common destinations for flights out of the Houston airports? What is the difference between the top five destinations?\n",
    "\n",
    "The answer to this question can help the client to understand the general air industry. In turn, he will better inform himself of some of the local business opportunities related to the industry. If a certain airport is receiving lots of people from many flights, an investment could also be made within the airport(s) that get(s) the most foot traffic. An example of such investments could be hotels and taxis within that region. We will summarize the data based on the most popular destinations for flights leaving from Houston airports. We will only present the top 5 results."
   ]
  },
  {
   "cell_type": "markdown",
   "metadata": {},
   "source": [
    "# Data Preparation:\n",
    "\n",
    "#### First, we are importing our required python packages and our data:\n"
   ]
  },
  {
   "cell_type": "code",
   "execution_count": 2,
   "metadata": {},
   "outputs": [
    {
     "data": {
      "text/html": [
       "<div>\n",
       "<style scoped>\n",
       "    .dataframe tbody tr th:only-of-type {\n",
       "        vertical-align: middle;\n",
       "    }\n",
       "\n",
       "    .dataframe tbody tr th {\n",
       "        vertical-align: top;\n",
       "    }\n",
       "\n",
       "    .dataframe thead th {\n",
       "        text-align: right;\n",
       "    }\n",
       "</style>\n",
       "<table border=\"1\" class=\"dataframe\">\n",
       "  <thead>\n",
       "    <tr style=\"text-align: right;\">\n",
       "      <th></th>\n",
       "      <th>Year</th>\n",
       "      <th>Month</th>\n",
       "      <th>DayofMonth</th>\n",
       "      <th>DayOfWeek</th>\n",
       "      <th>DepTime</th>\n",
       "      <th>ArrTime</th>\n",
       "      <th>UniqueCarrier</th>\n",
       "      <th>FlightNum</th>\n",
       "      <th>TailNum</th>\n",
       "      <th>ActualElapsedTime</th>\n",
       "      <th>...</th>\n",
       "      <th>ArrDelay</th>\n",
       "      <th>DepDelay</th>\n",
       "      <th>Origin</th>\n",
       "      <th>Dest</th>\n",
       "      <th>Distance</th>\n",
       "      <th>TaxiIn</th>\n",
       "      <th>TaxiOut</th>\n",
       "      <th>Cancelled</th>\n",
       "      <th>CancellationCode</th>\n",
       "      <th>Diverted</th>\n",
       "    </tr>\n",
       "  </thead>\n",
       "  <tbody>\n",
       "    <tr>\n",
       "      <th>0</th>\n",
       "      <td>2011</td>\n",
       "      <td>1</td>\n",
       "      <td>1</td>\n",
       "      <td>6</td>\n",
       "      <td>1400.0</td>\n",
       "      <td>1500.0</td>\n",
       "      <td>AA</td>\n",
       "      <td>428</td>\n",
       "      <td>N576AA</td>\n",
       "      <td>60.0</td>\n",
       "      <td>...</td>\n",
       "      <td>-10.0</td>\n",
       "      <td>0.0</td>\n",
       "      <td>IAH</td>\n",
       "      <td>DFW</td>\n",
       "      <td>224</td>\n",
       "      <td>7.0</td>\n",
       "      <td>13.0</td>\n",
       "      <td>0</td>\n",
       "      <td>NaN</td>\n",
       "      <td>0</td>\n",
       "    </tr>\n",
       "    <tr>\n",
       "      <th>1</th>\n",
       "      <td>2011</td>\n",
       "      <td>1</td>\n",
       "      <td>2</td>\n",
       "      <td>7</td>\n",
       "      <td>1401.0</td>\n",
       "      <td>1501.0</td>\n",
       "      <td>AA</td>\n",
       "      <td>428</td>\n",
       "      <td>N557AA</td>\n",
       "      <td>60.0</td>\n",
       "      <td>...</td>\n",
       "      <td>-9.0</td>\n",
       "      <td>1.0</td>\n",
       "      <td>IAH</td>\n",
       "      <td>DFW</td>\n",
       "      <td>224</td>\n",
       "      <td>6.0</td>\n",
       "      <td>9.0</td>\n",
       "      <td>0</td>\n",
       "      <td>NaN</td>\n",
       "      <td>0</td>\n",
       "    </tr>\n",
       "    <tr>\n",
       "      <th>2</th>\n",
       "      <td>2011</td>\n",
       "      <td>1</td>\n",
       "      <td>3</td>\n",
       "      <td>1</td>\n",
       "      <td>1352.0</td>\n",
       "      <td>1502.0</td>\n",
       "      <td>AA</td>\n",
       "      <td>428</td>\n",
       "      <td>N541AA</td>\n",
       "      <td>70.0</td>\n",
       "      <td>...</td>\n",
       "      <td>-8.0</td>\n",
       "      <td>-8.0</td>\n",
       "      <td>IAH</td>\n",
       "      <td>DFW</td>\n",
       "      <td>224</td>\n",
       "      <td>5.0</td>\n",
       "      <td>17.0</td>\n",
       "      <td>0</td>\n",
       "      <td>NaN</td>\n",
       "      <td>0</td>\n",
       "    </tr>\n",
       "    <tr>\n",
       "      <th>3</th>\n",
       "      <td>2011</td>\n",
       "      <td>1</td>\n",
       "      <td>4</td>\n",
       "      <td>2</td>\n",
       "      <td>1403.0</td>\n",
       "      <td>1513.0</td>\n",
       "      <td>AA</td>\n",
       "      <td>428</td>\n",
       "      <td>N403AA</td>\n",
       "      <td>70.0</td>\n",
       "      <td>...</td>\n",
       "      <td>3.0</td>\n",
       "      <td>3.0</td>\n",
       "      <td>IAH</td>\n",
       "      <td>DFW</td>\n",
       "      <td>224</td>\n",
       "      <td>9.0</td>\n",
       "      <td>22.0</td>\n",
       "      <td>0</td>\n",
       "      <td>NaN</td>\n",
       "      <td>0</td>\n",
       "    </tr>\n",
       "    <tr>\n",
       "      <th>4</th>\n",
       "      <td>2011</td>\n",
       "      <td>1</td>\n",
       "      <td>5</td>\n",
       "      <td>3</td>\n",
       "      <td>1405.0</td>\n",
       "      <td>1507.0</td>\n",
       "      <td>AA</td>\n",
       "      <td>428</td>\n",
       "      <td>N492AA</td>\n",
       "      <td>62.0</td>\n",
       "      <td>...</td>\n",
       "      <td>-3.0</td>\n",
       "      <td>5.0</td>\n",
       "      <td>IAH</td>\n",
       "      <td>DFW</td>\n",
       "      <td>224</td>\n",
       "      <td>9.0</td>\n",
       "      <td>9.0</td>\n",
       "      <td>0</td>\n",
       "      <td>NaN</td>\n",
       "      <td>0</td>\n",
       "    </tr>\n",
       "    <tr>\n",
       "      <th>...</th>\n",
       "      <td>...</td>\n",
       "      <td>...</td>\n",
       "      <td>...</td>\n",
       "      <td>...</td>\n",
       "      <td>...</td>\n",
       "      <td>...</td>\n",
       "      <td>...</td>\n",
       "      <td>...</td>\n",
       "      <td>...</td>\n",
       "      <td>...</td>\n",
       "      <td>...</td>\n",
       "      <td>...</td>\n",
       "      <td>...</td>\n",
       "      <td>...</td>\n",
       "      <td>...</td>\n",
       "      <td>...</td>\n",
       "      <td>...</td>\n",
       "      <td>...</td>\n",
       "      <td>...</td>\n",
       "      <td>...</td>\n",
       "      <td>...</td>\n",
       "    </tr>\n",
       "    <tr>\n",
       "      <th>19995</th>\n",
       "      <td>2011</td>\n",
       "      <td>2</td>\n",
       "      <td>25</td>\n",
       "      <td>5</td>\n",
       "      <td>1126.0</td>\n",
       "      <td>1333.0</td>\n",
       "      <td>CO</td>\n",
       "      <td>1719</td>\n",
       "      <td>N19621</td>\n",
       "      <td>187.0</td>\n",
       "      <td>...</td>\n",
       "      <td>8.0</td>\n",
       "      <td>-4.0</td>\n",
       "      <td>IAH</td>\n",
       "      <td>MTJ</td>\n",
       "      <td>926</td>\n",
       "      <td>5.0</td>\n",
       "      <td>30.0</td>\n",
       "      <td>0</td>\n",
       "      <td>NaN</td>\n",
       "      <td>0</td>\n",
       "    </tr>\n",
       "    <tr>\n",
       "      <th>19996</th>\n",
       "      <td>2011</td>\n",
       "      <td>2</td>\n",
       "      <td>25</td>\n",
       "      <td>5</td>\n",
       "      <td>941.0</td>\n",
       "      <td>1111.0</td>\n",
       "      <td>CO</td>\n",
       "      <td>1723</td>\n",
       "      <td>N37298</td>\n",
       "      <td>210.0</td>\n",
       "      <td>...</td>\n",
       "      <td>0.0</td>\n",
       "      <td>11.0</td>\n",
       "      <td>IAH</td>\n",
       "      <td>ONT</td>\n",
       "      <td>1334</td>\n",
       "      <td>5.0</td>\n",
       "      <td>12.0</td>\n",
       "      <td>0</td>\n",
       "      <td>NaN</td>\n",
       "      <td>0</td>\n",
       "    </tr>\n",
       "    <tr>\n",
       "      <th>19997</th>\n",
       "      <td>2011</td>\n",
       "      <td>2</td>\n",
       "      <td>25</td>\n",
       "      <td>5</td>\n",
       "      <td>722.0</td>\n",
       "      <td>948.0</td>\n",
       "      <td>CO</td>\n",
       "      <td>1746</td>\n",
       "      <td>N37408</td>\n",
       "      <td>146.0</td>\n",
       "      <td>...</td>\n",
       "      <td>-17.0</td>\n",
       "      <td>-3.0</td>\n",
       "      <td>IAH</td>\n",
       "      <td>ORD</td>\n",
       "      <td>925</td>\n",
       "      <td>17.0</td>\n",
       "      <td>14.0</td>\n",
       "      <td>0</td>\n",
       "      <td>NaN</td>\n",
       "      <td>0</td>\n",
       "    </tr>\n",
       "    <tr>\n",
       "      <th>19998</th>\n",
       "      <td>2011</td>\n",
       "      <td>2</td>\n",
       "      <td>25</td>\n",
       "      <td>5</td>\n",
       "      <td>1909.0</td>\n",
       "      <td>2216.0</td>\n",
       "      <td>CO</td>\n",
       "      <td>1748</td>\n",
       "      <td>N27239</td>\n",
       "      <td>127.0</td>\n",
       "      <td>...</td>\n",
       "      <td>-10.0</td>\n",
       "      <td>12.0</td>\n",
       "      <td>IAH</td>\n",
       "      <td>FLL</td>\n",
       "      <td>965</td>\n",
       "      <td>6.0</td>\n",
       "      <td>15.0</td>\n",
       "      <td>0</td>\n",
       "      <td>NaN</td>\n",
       "      <td>0</td>\n",
       "    </tr>\n",
       "    <tr>\n",
       "      <th>19999</th>\n",
       "      <td>2011</td>\n",
       "      <td>2</td>\n",
       "      <td>25</td>\n",
       "      <td>5</td>\n",
       "      <td>1255.0</td>\n",
       "      <td>1553.0</td>\n",
       "      <td>CO</td>\n",
       "      <td>1757</td>\n",
       "      <td>N14604</td>\n",
       "      <td>118.0</td>\n",
       "      <td>...</td>\n",
       "      <td>-3.0</td>\n",
       "      <td>5.0</td>\n",
       "      <td>IAH</td>\n",
       "      <td>ATL</td>\n",
       "      <td>689</td>\n",
       "      <td>13.0</td>\n",
       "      <td>22.0</td>\n",
       "      <td>0</td>\n",
       "      <td>NaN</td>\n",
       "      <td>0</td>\n",
       "    </tr>\n",
       "  </tbody>\n",
       "</table>\n",
       "<p>20000 rows × 21 columns</p>\n",
       "</div>"
      ],
      "text/plain": [
       "       Year  Month  DayofMonth  DayOfWeek  DepTime  ArrTime UniqueCarrier  \\\n",
       "0      2011      1           1          6   1400.0   1500.0            AA   \n",
       "1      2011      1           2          7   1401.0   1501.0            AA   \n",
       "2      2011      1           3          1   1352.0   1502.0            AA   \n",
       "3      2011      1           4          2   1403.0   1513.0            AA   \n",
       "4      2011      1           5          3   1405.0   1507.0            AA   \n",
       "...     ...    ...         ...        ...      ...      ...           ...   \n",
       "19995  2011      2          25          5   1126.0   1333.0            CO   \n",
       "19996  2011      2          25          5    941.0   1111.0            CO   \n",
       "19997  2011      2          25          5    722.0    948.0            CO   \n",
       "19998  2011      2          25          5   1909.0   2216.0            CO   \n",
       "19999  2011      2          25          5   1255.0   1553.0            CO   \n",
       "\n",
       "       FlightNum TailNum  ActualElapsedTime  ...  ArrDelay  DepDelay  Origin  \\\n",
       "0            428  N576AA               60.0  ...     -10.0       0.0     IAH   \n",
       "1            428  N557AA               60.0  ...      -9.0       1.0     IAH   \n",
       "2            428  N541AA               70.0  ...      -8.0      -8.0     IAH   \n",
       "3            428  N403AA               70.0  ...       3.0       3.0     IAH   \n",
       "4            428  N492AA               62.0  ...      -3.0       5.0     IAH   \n",
       "...          ...     ...                ...  ...       ...       ...     ...   \n",
       "19995       1719  N19621              187.0  ...       8.0      -4.0     IAH   \n",
       "19996       1723  N37298              210.0  ...       0.0      11.0     IAH   \n",
       "19997       1746  N37408              146.0  ...     -17.0      -3.0     IAH   \n",
       "19998       1748  N27239              127.0  ...     -10.0      12.0     IAH   \n",
       "19999       1757  N14604              118.0  ...      -3.0       5.0     IAH   \n",
       "\n",
       "      Dest Distance  TaxiIn  TaxiOut  Cancelled  CancellationCode Diverted  \n",
       "0      DFW      224     7.0     13.0          0               NaN        0  \n",
       "1      DFW      224     6.0      9.0          0               NaN        0  \n",
       "2      DFW      224     5.0     17.0          0               NaN        0  \n",
       "3      DFW      224     9.0     22.0          0               NaN        0  \n",
       "4      DFW      224     9.0      9.0          0               NaN        0  \n",
       "...    ...      ...     ...      ...        ...               ...      ...  \n",
       "19995  MTJ      926     5.0     30.0          0               NaN        0  \n",
       "19996  ONT     1334     5.0     12.0          0               NaN        0  \n",
       "19997  ORD      925    17.0     14.0          0               NaN        0  \n",
       "19998  FLL      965     6.0     15.0          0               NaN        0  \n",
       "19999  ATL      689    13.0     22.0          0               NaN        0  \n",
       "\n",
       "[20000 rows x 21 columns]"
      ]
     },
     "execution_count": 2,
     "metadata": {},
     "output_type": "execute_result"
    }
   ],
   "source": [
    "#Data preperation - importing the NumPy and Pandas packages\n",
    "import numpy as np\n",
    "import pandas as pd\n",
    "\n",
    "np.set_printoptions(suppress = True)\n",
    "\n",
    "# creating a new DataFrame named pd.airlines with an imported csv data\n",
    "pd.airlines = pd.read_csv('https://raw.githubusercontent.com/jtopor/DAV-5400/master/Project1/hflights.csv')\n",
    "\n",
    "#printing the original dataset\n",
    "pd.airlines"
   ]
  },
  {
   "cell_type": "markdown",
   "metadata": {},
   "source": [
    "#### Next, we are cleaning up the dataset to show the only data directly related to our client's insterests and needs:"
   ]
  },
  {
   "cell_type": "code",
   "execution_count": 3,
   "metadata": {},
   "outputs": [
    {
     "name": "stdout",
     "output_type": "stream",
     "text": [
      "The updated dataset named Houston_Airports:\n"
     ]
    },
    {
     "data": {
      "text/html": [
       "<div>\n",
       "<style scoped>\n",
       "    .dataframe tbody tr th:only-of-type {\n",
       "        vertical-align: middle;\n",
       "    }\n",
       "\n",
       "    .dataframe tbody tr th {\n",
       "        vertical-align: top;\n",
       "    }\n",
       "\n",
       "    .dataframe thead th {\n",
       "        text-align: right;\n",
       "    }\n",
       "</style>\n",
       "<table border=\"1\" class=\"dataframe\">\n",
       "  <thead>\n",
       "    <tr style=\"text-align: right;\">\n",
       "      <th></th>\n",
       "      <th>DepTime</th>\n",
       "      <th>ArrTime</th>\n",
       "      <th>UniqueCarrier</th>\n",
       "      <th>FlightNum</th>\n",
       "      <th>ActualElapsedTime</th>\n",
       "      <th>AirTime</th>\n",
       "      <th>ArrDelay</th>\n",
       "      <th>DepDelay</th>\n",
       "      <th>Origin</th>\n",
       "      <th>Dest</th>\n",
       "    </tr>\n",
       "  </thead>\n",
       "  <tbody>\n",
       "    <tr>\n",
       "      <th>0</th>\n",
       "      <td>1400.0</td>\n",
       "      <td>1500.0</td>\n",
       "      <td>AA</td>\n",
       "      <td>428</td>\n",
       "      <td>60.0</td>\n",
       "      <td>40.0</td>\n",
       "      <td>-10.0</td>\n",
       "      <td>0.0</td>\n",
       "      <td>IAH</td>\n",
       "      <td>DFW</td>\n",
       "    </tr>\n",
       "    <tr>\n",
       "      <th>1</th>\n",
       "      <td>1401.0</td>\n",
       "      <td>1501.0</td>\n",
       "      <td>AA</td>\n",
       "      <td>428</td>\n",
       "      <td>60.0</td>\n",
       "      <td>45.0</td>\n",
       "      <td>-9.0</td>\n",
       "      <td>1.0</td>\n",
       "      <td>IAH</td>\n",
       "      <td>DFW</td>\n",
       "    </tr>\n",
       "    <tr>\n",
       "      <th>2</th>\n",
       "      <td>1352.0</td>\n",
       "      <td>1502.0</td>\n",
       "      <td>AA</td>\n",
       "      <td>428</td>\n",
       "      <td>70.0</td>\n",
       "      <td>48.0</td>\n",
       "      <td>-8.0</td>\n",
       "      <td>-8.0</td>\n",
       "      <td>IAH</td>\n",
       "      <td>DFW</td>\n",
       "    </tr>\n",
       "    <tr>\n",
       "      <th>3</th>\n",
       "      <td>1403.0</td>\n",
       "      <td>1513.0</td>\n",
       "      <td>AA</td>\n",
       "      <td>428</td>\n",
       "      <td>70.0</td>\n",
       "      <td>39.0</td>\n",
       "      <td>3.0</td>\n",
       "      <td>3.0</td>\n",
       "      <td>IAH</td>\n",
       "      <td>DFW</td>\n",
       "    </tr>\n",
       "    <tr>\n",
       "      <th>4</th>\n",
       "      <td>1405.0</td>\n",
       "      <td>1507.0</td>\n",
       "      <td>AA</td>\n",
       "      <td>428</td>\n",
       "      <td>62.0</td>\n",
       "      <td>44.0</td>\n",
       "      <td>-3.0</td>\n",
       "      <td>5.0</td>\n",
       "      <td>IAH</td>\n",
       "      <td>DFW</td>\n",
       "    </tr>\n",
       "    <tr>\n",
       "      <th>...</th>\n",
       "      <td>...</td>\n",
       "      <td>...</td>\n",
       "      <td>...</td>\n",
       "      <td>...</td>\n",
       "      <td>...</td>\n",
       "      <td>...</td>\n",
       "      <td>...</td>\n",
       "      <td>...</td>\n",
       "      <td>...</td>\n",
       "      <td>...</td>\n",
       "    </tr>\n",
       "    <tr>\n",
       "      <th>19995</th>\n",
       "      <td>1126.0</td>\n",
       "      <td>1333.0</td>\n",
       "      <td>CO</td>\n",
       "      <td>1719</td>\n",
       "      <td>187.0</td>\n",
       "      <td>152.0</td>\n",
       "      <td>8.0</td>\n",
       "      <td>-4.0</td>\n",
       "      <td>IAH</td>\n",
       "      <td>MTJ</td>\n",
       "    </tr>\n",
       "    <tr>\n",
       "      <th>19996</th>\n",
       "      <td>941.0</td>\n",
       "      <td>1111.0</td>\n",
       "      <td>CO</td>\n",
       "      <td>1723</td>\n",
       "      <td>210.0</td>\n",
       "      <td>193.0</td>\n",
       "      <td>0.0</td>\n",
       "      <td>11.0</td>\n",
       "      <td>IAH</td>\n",
       "      <td>ONT</td>\n",
       "    </tr>\n",
       "    <tr>\n",
       "      <th>19997</th>\n",
       "      <td>722.0</td>\n",
       "      <td>948.0</td>\n",
       "      <td>CO</td>\n",
       "      <td>1746</td>\n",
       "      <td>146.0</td>\n",
       "      <td>115.0</td>\n",
       "      <td>-17.0</td>\n",
       "      <td>-3.0</td>\n",
       "      <td>IAH</td>\n",
       "      <td>ORD</td>\n",
       "    </tr>\n",
       "    <tr>\n",
       "      <th>19998</th>\n",
       "      <td>1909.0</td>\n",
       "      <td>2216.0</td>\n",
       "      <td>CO</td>\n",
       "      <td>1748</td>\n",
       "      <td>127.0</td>\n",
       "      <td>106.0</td>\n",
       "      <td>-10.0</td>\n",
       "      <td>12.0</td>\n",
       "      <td>IAH</td>\n",
       "      <td>FLL</td>\n",
       "    </tr>\n",
       "    <tr>\n",
       "      <th>19999</th>\n",
       "      <td>1255.0</td>\n",
       "      <td>1553.0</td>\n",
       "      <td>CO</td>\n",
       "      <td>1757</td>\n",
       "      <td>118.0</td>\n",
       "      <td>83.0</td>\n",
       "      <td>-3.0</td>\n",
       "      <td>5.0</td>\n",
       "      <td>IAH</td>\n",
       "      <td>ATL</td>\n",
       "    </tr>\n",
       "  </tbody>\n",
       "</table>\n",
       "<p>20000 rows × 10 columns</p>\n",
       "</div>"
      ],
      "text/plain": [
       "       DepTime  ArrTime UniqueCarrier  FlightNum  ActualElapsedTime  AirTime  \\\n",
       "0       1400.0   1500.0            AA        428               60.0     40.0   \n",
       "1       1401.0   1501.0            AA        428               60.0     45.0   \n",
       "2       1352.0   1502.0            AA        428               70.0     48.0   \n",
       "3       1403.0   1513.0            AA        428               70.0     39.0   \n",
       "4       1405.0   1507.0            AA        428               62.0     44.0   \n",
       "...        ...      ...           ...        ...                ...      ...   \n",
       "19995   1126.0   1333.0            CO       1719              187.0    152.0   \n",
       "19996    941.0   1111.0            CO       1723              210.0    193.0   \n",
       "19997    722.0    948.0            CO       1746              146.0    115.0   \n",
       "19998   1909.0   2216.0            CO       1748              127.0    106.0   \n",
       "19999   1255.0   1553.0            CO       1757              118.0     83.0   \n",
       "\n",
       "       ArrDelay  DepDelay Origin Dest  \n",
       "0         -10.0       0.0    IAH  DFW  \n",
       "1          -9.0       1.0    IAH  DFW  \n",
       "2          -8.0      -8.0    IAH  DFW  \n",
       "3           3.0       3.0    IAH  DFW  \n",
       "4          -3.0       5.0    IAH  DFW  \n",
       "...         ...       ...    ...  ...  \n",
       "19995       8.0      -4.0    IAH  MTJ  \n",
       "19996       0.0      11.0    IAH  ONT  \n",
       "19997     -17.0      -3.0    IAH  ORD  \n",
       "19998     -10.0      12.0    IAH  FLL  \n",
       "19999      -3.0       5.0    IAH  ATL  \n",
       "\n",
       "[20000 rows x 10 columns]"
      ]
     },
     "execution_count": 3,
     "metadata": {},
     "output_type": "execute_result"
    }
   ],
   "source": [
    "# droping irrelevent columns: \n",
    "# calling the drop function to eliminate any columns that are irrelevant to our research\n",
    "Houston_Airports = pd.airlines.drop(['Diverted','TailNum','Distance','CancellationCode', 'Cancelled', 'Month', 'DayofMonth', 'DayOfWeek','Year', 'TaxiIn', 'TaxiOut'],axis =1)\n",
    "\n",
    "#bringing up the updated data set\n",
    "print('The updated dataset named Houston_Airports:')\n",
    "Houston_Airports"
   ]
  },
  {
   "cell_type": "markdown",
   "metadata": {},
   "source": [
    "# Exploratory Data Analysis:"
   ]
  },
  {
   "cell_type": "markdown",
   "metadata": {},
   "source": [
    "### Question 1:\n",
    "\n",
    "Which airline has the highest number of flights out of Houston? What is the difference between the top five airlines?"
   ]
  },
  {
   "cell_type": "code",
   "execution_count": 4,
   "metadata": {},
   "outputs": [
    {
     "name": "stdout",
     "output_type": "stream",
     "text": [
      "The top carriers with the highest number of flights leaving from Houston airports are:\n",
      "CO    6830\n",
      "XE    6775\n",
      "WN    3708\n",
      "OO     699\n",
      "AA     519\n",
      "Name: UniqueCarrier, dtype: int64\n",
      "\n",
      "The gaps between the number of flights each of the top 5 airlines are:\n",
      "CO       NaN\n",
      "XE     -55.0\n",
      "WN   -3067.0\n",
      "OO   -3009.0\n",
      "AA    -180.0\n",
      "Name: UniqueCarrier, dtype: float64\n"
     ]
    }
   ],
   "source": [
    "# counting the number of flights using the carrier name\n",
    "# creating a new DataFrame calles Most_Flights\n",
    "# calling the loc function to access the UniqueCarrier column and rows\n",
    "# calling the value_counts function to count the amount of data entries of the UniqueCarrier name\n",
    "# calling the head function to print only the first 5 rows of the data\n",
    "Most_Flights = Houston_Airports.loc[:,'UniqueCarrier'].value_counts().head()\n",
    "\n",
    "#printing the results\n",
    "print('The top carriers with the highest number of flights leaving from Houston airports are:')\n",
    "print(Most_Flights)\n",
    "\n",
    "print()\n",
    "\n",
    "# creating a new DataFrame to calculate the difference between the results\n",
    "# calling the diff function to calculate the differences between our 5 top results\n",
    "# printing our results\n",
    "Most_Flights_Diff = Most_Flights.diff()\n",
    "print('The gaps between the number of flights each of the top 5 airlines are:')\n",
    "print(Most_Flights_Diff)"
   ]
  },
  {
   "cell_type": "markdown",
   "metadata": {},
   "source": [
    "#### Conclusion:\n",
    "\n",
    "The airline with the highest number of flights out of Houston airport is Continental Airlines (CO) with 6,830 during the period of time the database represents. This is an indication for the investor that Continental Airlines is the busiest airline in Houston and has the largest investment potential. The gap between Continental Airlines and ExpressJet Airlines (XE) is very small - 55 flights. The next airlines have a very large difference in the number of flights - over 3000 less than Continental Airlines and ExpressJet Airlines. This gap provides a clear indication that there are 2 very big players within the Houston region."
   ]
  },
  {
   "cell_type": "markdown",
   "metadata": {},
   "source": [
    "### Question 2:\n",
    "\n",
    "Which five carriers have the highest average arrival delays and highest average departure delays?"
   ]
  },
  {
   "cell_type": "code",
   "execution_count": 5,
   "metadata": {},
   "outputs": [
    {
     "name": "stdout",
     "output_type": "stream",
     "text": [
      "The top 5 carriers that have the highest arrival delay times are:\n"
     ]
    },
    {
     "data": {
      "text/html": [
       "<div>\n",
       "<style scoped>\n",
       "    .dataframe tbody tr th:only-of-type {\n",
       "        vertical-align: middle;\n",
       "    }\n",
       "\n",
       "    .dataframe tbody tr th {\n",
       "        vertical-align: top;\n",
       "    }\n",
       "\n",
       "    .dataframe thead th {\n",
       "        text-align: right;\n",
       "    }\n",
       "</style>\n",
       "<table border=\"1\" class=\"dataframe\">\n",
       "  <thead>\n",
       "    <tr style=\"text-align: right;\">\n",
       "      <th></th>\n",
       "      <th>ArrDelay</th>\n",
       "    </tr>\n",
       "    <tr>\n",
       "      <th>UniqueCarrier</th>\n",
       "      <th></th>\n",
       "    </tr>\n",
       "  </thead>\n",
       "  <tbody>\n",
       "    <tr>\n",
       "      <th>EV</th>\n",
       "      <td>13.927083</td>\n",
       "    </tr>\n",
       "    <tr>\n",
       "      <th>F9</th>\n",
       "      <td>13.725806</td>\n",
       "    </tr>\n",
       "    <tr>\n",
       "      <th>B6</th>\n",
       "      <td>11.086022</td>\n",
       "    </tr>\n",
       "    <tr>\n",
       "      <th>AS</th>\n",
       "      <td>9.396552</td>\n",
       "    </tr>\n",
       "    <tr>\n",
       "      <th>WN</th>\n",
       "      <td>8.644941</td>\n",
       "    </tr>\n",
       "  </tbody>\n",
       "</table>\n",
       "</div>"
      ],
      "text/plain": [
       "                ArrDelay\n",
       "UniqueCarrier           \n",
       "EV             13.927083\n",
       "F9             13.725806\n",
       "B6             11.086022\n",
       "AS              9.396552\n",
       "WN              8.644941"
      ]
     },
     "execution_count": 5,
     "metadata": {},
     "output_type": "execute_result"
    }
   ],
   "source": [
    "# creating a new DataFrame called Arrival_Delay_Time\n",
    "# calling the loc function to access both carrier and ArrDelay columns and rows\n",
    "Arrival_Delay_Time = Houston_Airports.loc[:,('UniqueCarrier','ArrDelay')]\n",
    "\n",
    "# creating new dataframe called Arrivals_Delay, and setting the following parameters to it:\n",
    "# grouping the information according to the carrier, presenting only the top 5\n",
    "# calling groupby function to summarize our data according to the UniqueCarrier initials\n",
    "# calling the mean function to calculate the average arrival delay of each UniqueCarrier \n",
    "# calling the sort_value function in order to arrange our results by the highest average arrival delay\n",
    "# calling the head function to print only the first 5 rows of the data\n",
    "# printing the results\n",
    "Arrivals_Delay=Arrival_Delay_Time.groupby('UniqueCarrier').mean().sort_values(by='ArrDelay',ascending = False).head()\n",
    "print('The top 5 carriers that have the highest arrival delay times are:')\n",
    "Arrivals_Delay"
   ]
  },
  {
   "cell_type": "code",
   "execution_count": 6,
   "metadata": {},
   "outputs": [
    {
     "name": "stdout",
     "output_type": "stream",
     "text": [
      "The top 5 carriers that have the highest departure delay times are:\n"
     ]
    },
    {
     "data": {
      "text/html": [
       "<div>\n",
       "<style scoped>\n",
       "    .dataframe tbody tr th:only-of-type {\n",
       "        vertical-align: middle;\n",
       "    }\n",
       "\n",
       "    .dataframe tbody tr th {\n",
       "        vertical-align: top;\n",
       "    }\n",
       "\n",
       "    .dataframe thead th {\n",
       "        text-align: right;\n",
       "    }\n",
       "</style>\n",
       "<table border=\"1\" class=\"dataframe\">\n",
       "  <thead>\n",
       "    <tr style=\"text-align: right;\">\n",
       "      <th></th>\n",
       "      <th>DepDelay</th>\n",
       "    </tr>\n",
       "    <tr>\n",
       "      <th>UniqueCarrier</th>\n",
       "      <th></th>\n",
       "    </tr>\n",
       "  </thead>\n",
       "  <tbody>\n",
       "    <tr>\n",
       "      <th>EV</th>\n",
       "      <td>21.742268</td>\n",
       "    </tr>\n",
       "    <tr>\n",
       "      <th>B6</th>\n",
       "      <td>18.234043</td>\n",
       "    </tr>\n",
       "    <tr>\n",
       "      <th>WN</th>\n",
       "      <td>14.394336</td>\n",
       "    </tr>\n",
       "    <tr>\n",
       "      <th>MQ</th>\n",
       "      <td>9.901538</td>\n",
       "    </tr>\n",
       "    <tr>\n",
       "      <th>CO</th>\n",
       "      <td>9.881251</td>\n",
       "    </tr>\n",
       "  </tbody>\n",
       "</table>\n",
       "</div>"
      ],
      "text/plain": [
       "                DepDelay\n",
       "UniqueCarrier           \n",
       "EV             21.742268\n",
       "B6             18.234043\n",
       "WN             14.394336\n",
       "MQ              9.901538\n",
       "CO              9.881251"
      ]
     },
     "execution_count": 6,
     "metadata": {},
     "output_type": "execute_result"
    }
   ],
   "source": [
    "# creating a new DataFrame called Departure_Delay\n",
    "# calling the loc function to access both carrier and DepDelay columns and rows\n",
    "Departure_Delay = Houston_Airports.loc[:,('UniqueCarrier','DepDelay')]\n",
    "\n",
    "# creating new dataframe called Departures_Delay, and setting the following parameters to it:\n",
    "# grouping the information according to the carrier, presenting only the top 5\n",
    "# calling groupby function to summarize our data according to the UniqueCarrier initials\n",
    "# calling the mean function to calculate the average departure delay of each UniqueCarrier \n",
    "# calling the sort_value function in order to arrange our results by the highest average departure delay\n",
    "# calling the head function to print only the first 5 rows of the data\n",
    "# printing the results\n",
    "Departures_Delay=Departure_Delay.groupby('UniqueCarrier').mean().sort_values(by='DepDelay',ascending = False).head()\n",
    "print('The top 5 carriers that have the highest departure delay times are:')\n",
    "Departures_Delay"
   ]
  },
  {
   "cell_type": "markdown",
   "metadata": {},
   "source": [
    "#### Conclusion:\n",
    "\n",
    "There are many delays in both the departure and arrival times. EVA Air (EV) has been experiencing the highest number of delays in both departure and arrival, which indicates to the investor that it might not be a good company to invest in because they probably have bad ratings from consumers. They may even offer cheaper airline tickets as a result, which means they might report low revenues. In addition, both JetBlue (B6) and Southwest Airlines (WN) appear in the top 5 carriers that experience arrival and departure delay. These are very large airlines that operate in multiple airports around the US and globally, and this fact might indicate a pattern that is larger than the Houston airports. It can affect the investor's calculations."
   ]
  },
  {
   "cell_type": "markdown",
   "metadata": {},
   "source": [
    "### Question 3:\n",
    "\n",
    "What are the most common destinations for flights out of the Houston airports? What is the difference between the top five destinations?\n"
   ]
  },
  {
   "cell_type": "code",
   "execution_count": 7,
   "metadata": {},
   "outputs": [
    {
     "name": "stdout",
     "output_type": "stream",
     "text": [
      "The top 5 destinations for customers out of Houston airports are:\n",
      "DAL    884\n",
      "DFW    735\n",
      "MSY    635\n",
      "ATL    623\n",
      "DEN    509\n",
      "Name: Dest, dtype: int64\n",
      "\n",
      "The differences between the 5 most common destinations travelers fly to out of Houston are:\n",
      "DAL      NaN\n",
      "DFW   -149.0\n",
      "MSY   -100.0\n",
      "ATL    -12.0\n",
      "DEN   -114.0\n",
      "Name: Dest, dtype: float64\n"
     ]
    }
   ],
   "source": [
    "# creating a new DataFrame calles Most_Common_Dest\n",
    "# calling the loc function to access the Dest column and rows\n",
    "# calling the value_counts function to count the amount of data entries for Destination\n",
    "# calling the head function to print only the first 5 rows of the data\n",
    "Most_Common_Dest = Houston_Airports.loc[:,'Dest'].value_counts().head()\n",
    "\n",
    "# printing the results\n",
    "print('The top 5 destinations for customers out of Houston airports are:')\n",
    "print(Most_Common_Dest)\n",
    "print()\n",
    "\n",
    "#creating a new DataFrame to calculate the difference between the results\n",
    "#calling the diff function to calculate the differences between our 5 top results\n",
    "#printing our results\n",
    "Common_Flights_Diff = Most_Common_Dest.diff()\n",
    "print('The differences between the 5 most common destinations travelers fly to out of Houston are:')\n",
    "print(Common_Flights_Diff)\n"
   ]
  },
  {
   "cell_type": "markdown",
   "metadata": {},
   "source": [
    "#### Conclusion:\n",
    "\n",
    "The most common destination out of Houston is Dallas, TX. The first 2 destinations in the list are in Dallas, TX: Love Field Airport (DAL) and Dallas/Fort Worth International Airport (DFW). The next destinations are: Louis Armstrong New Orleans International Airport (MSY), Hartsfield-Jackson Atlanta International Airport (ATL) and Denver International Airport (DEN). All 5 airports are within less than 5 hours of flight from Houston. We can assume that Texas related business opportunities are affected by that often-utilized short-distance flights. *****For example, if an airport is only domestic and the majority of the flights are short-distance, then the number of hotels in the airport region will be smaller in comparison to an international airport with long-distance flights.***"
   ]
  },
  {
   "cell_type": "markdown",
   "metadata": {},
   "source": [
    "# Research Results:\n"
   ]
  },
  {
   "cell_type": "markdown",
   "metadata": {},
   "source": [
    "#### The stastical summaries indicate the following: \n",
    "\n",
    "1. The mean number of flights for the five top airlines is 3706 with a standard deviation of 3097. This summary shows that the range of flights between the different companies is high, with a minimum of 519 and a maximum of 6830. Therefore, we can conclude that even among the 5 companies that had the highest number of outgoing flights from Houston, there's a high variance. This suggests that only a small number of companies use Houston as a central hub. These conclusions show that Houston might suffer from an oligopoly that constrains competition. \n",
    "\n",
    "2. The mean arrival delay of the five airlines that experience the most delays is 11 minutes, which depending on the flight time, can be a long or short time frame. The same hold for departure delays, with a means of 14 minutes. \n",
    "\n",
    "3. The mean number for the five top destinations is 677 with a standard deviation of 140. This summary shows that the range of flights between the different companies is high, with a minimum of 509 and a maximum of 884. While there are large differences between each destination, we can see from the summary statistics that they all fall into a relatively small range of 375. "
   ]
  },
  {
   "cell_type": "code",
   "execution_count": 8,
   "metadata": {},
   "outputs": [
    {
     "data": {
      "text/plain": [
       "count       5.000000\n",
       "mean     3706.200000\n",
       "std      3097.465044\n",
       "min       519.000000\n",
       "25%       699.000000\n",
       "50%      3708.000000\n",
       "75%      6775.000000\n",
       "max      6830.000000\n",
       "Name: UniqueCarrier, dtype: float64"
      ]
     },
     "execution_count": 8,
     "metadata": {},
     "output_type": "execute_result"
    }
   ],
   "source": [
    "#Question 1\n",
    "#creating summary statistics for Most_Flights\n",
    "Most_Flights.describe()"
   ]
  },
  {
   "cell_type": "code",
   "execution_count": 9,
   "metadata": {},
   "outputs": [
    {
     "data": {
      "text/html": [
       "<div>\n",
       "<style scoped>\n",
       "    .dataframe tbody tr th:only-of-type {\n",
       "        vertical-align: middle;\n",
       "    }\n",
       "\n",
       "    .dataframe tbody tr th {\n",
       "        vertical-align: top;\n",
       "    }\n",
       "\n",
       "    .dataframe thead th {\n",
       "        text-align: right;\n",
       "    }\n",
       "</style>\n",
       "<table border=\"1\" class=\"dataframe\">\n",
       "  <thead>\n",
       "    <tr style=\"text-align: right;\">\n",
       "      <th></th>\n",
       "      <th>ArrDelay</th>\n",
       "    </tr>\n",
       "  </thead>\n",
       "  <tbody>\n",
       "    <tr>\n",
       "      <th>count</th>\n",
       "      <td>5.000000</td>\n",
       "    </tr>\n",
       "    <tr>\n",
       "      <th>mean</th>\n",
       "      <td>11.356081</td>\n",
       "    </tr>\n",
       "    <tr>\n",
       "      <th>std</th>\n",
       "      <td>2.423253</td>\n",
       "    </tr>\n",
       "    <tr>\n",
       "      <th>min</th>\n",
       "      <td>8.644941</td>\n",
       "    </tr>\n",
       "    <tr>\n",
       "      <th>25%</th>\n",
       "      <td>9.396552</td>\n",
       "    </tr>\n",
       "    <tr>\n",
       "      <th>50%</th>\n",
       "      <td>11.086022</td>\n",
       "    </tr>\n",
       "    <tr>\n",
       "      <th>75%</th>\n",
       "      <td>13.725806</td>\n",
       "    </tr>\n",
       "    <tr>\n",
       "      <th>max</th>\n",
       "      <td>13.927083</td>\n",
       "    </tr>\n",
       "  </tbody>\n",
       "</table>\n",
       "</div>"
      ],
      "text/plain": [
       "        ArrDelay\n",
       "count   5.000000\n",
       "mean   11.356081\n",
       "std     2.423253\n",
       "min     8.644941\n",
       "25%     9.396552\n",
       "50%    11.086022\n",
       "75%    13.725806\n",
       "max    13.927083"
      ]
     },
     "execution_count": 9,
     "metadata": {},
     "output_type": "execute_result"
    }
   ],
   "source": [
    "#Question 2 \n",
    "#creating summary statistics for Arrivals_Delay\n",
    "Arrivals_Delay.describe()"
   ]
  },
  {
   "cell_type": "code",
   "execution_count": 10,
   "metadata": {},
   "outputs": [
    {
     "data": {
      "text/html": [
       "<div>\n",
       "<style scoped>\n",
       "    .dataframe tbody tr th:only-of-type {\n",
       "        vertical-align: middle;\n",
       "    }\n",
       "\n",
       "    .dataframe tbody tr th {\n",
       "        vertical-align: top;\n",
       "    }\n",
       "\n",
       "    .dataframe thead th {\n",
       "        text-align: right;\n",
       "    }\n",
       "</style>\n",
       "<table border=\"1\" class=\"dataframe\">\n",
       "  <thead>\n",
       "    <tr style=\"text-align: right;\">\n",
       "      <th></th>\n",
       "      <th>DepDelay</th>\n",
       "    </tr>\n",
       "  </thead>\n",
       "  <tbody>\n",
       "    <tr>\n",
       "      <th>count</th>\n",
       "      <td>5.000000</td>\n",
       "    </tr>\n",
       "    <tr>\n",
       "      <th>mean</th>\n",
       "      <td>14.830687</td>\n",
       "    </tr>\n",
       "    <tr>\n",
       "      <th>std</th>\n",
       "      <td>5.204244</td>\n",
       "    </tr>\n",
       "    <tr>\n",
       "      <th>min</th>\n",
       "      <td>9.881251</td>\n",
       "    </tr>\n",
       "    <tr>\n",
       "      <th>25%</th>\n",
       "      <td>9.901538</td>\n",
       "    </tr>\n",
       "    <tr>\n",
       "      <th>50%</th>\n",
       "      <td>14.394336</td>\n",
       "    </tr>\n",
       "    <tr>\n",
       "      <th>75%</th>\n",
       "      <td>18.234043</td>\n",
       "    </tr>\n",
       "    <tr>\n",
       "      <th>max</th>\n",
       "      <td>21.742268</td>\n",
       "    </tr>\n",
       "  </tbody>\n",
       "</table>\n",
       "</div>"
      ],
      "text/plain": [
       "        DepDelay\n",
       "count   5.000000\n",
       "mean   14.830687\n",
       "std     5.204244\n",
       "min     9.881251\n",
       "25%     9.901538\n",
       "50%    14.394336\n",
       "75%    18.234043\n",
       "max    21.742268"
      ]
     },
     "execution_count": 10,
     "metadata": {},
     "output_type": "execute_result"
    }
   ],
   "source": [
    "#Question 2\n",
    "#creating summary statistics for Departures_Delay\n",
    "Departures_Delay.describe()"
   ]
  },
  {
   "cell_type": "code",
   "execution_count": 11,
   "metadata": {},
   "outputs": [
    {
     "data": {
      "text/plain": [
       "count      5.000000\n",
       "mean     677.200000\n",
       "std      140.638544\n",
       "min      509.000000\n",
       "25%      623.000000\n",
       "50%      635.000000\n",
       "75%      735.000000\n",
       "max      884.000000\n",
       "Name: Dest, dtype: float64"
      ]
     },
     "execution_count": 11,
     "metadata": {},
     "output_type": "execute_result"
    }
   ],
   "source": [
    "#Question 3\n",
    "#creating summary statistics for Most_Common_Dest\n",
    "Most_Common_Dest.describe()"
   ]
  },
  {
   "cell_type": "markdown",
   "metadata": {},
   "source": [
    "### Research results for question 1"
   ]
  },
  {
   "cell_type": "markdown",
   "metadata": {},
   "source": [
    "As can be seen from the visual aids below, there is a small gap between CO and XE airlines, followed by a steep drop in the number of flights. We can conclude that the CO and XE are the industry leaders in the Houston airports. "
   ]
  },
  {
   "cell_type": "code",
   "execution_count": 12,
   "metadata": {},
   "outputs": [
    {
     "data": {
      "text/plain": [
       "<matplotlib.axes._subplots.AxesSubplot at 0x2417e6d09a0>"
      ]
     },
     "execution_count": 12,
     "metadata": {},
     "output_type": "execute_result"
    },
    {
     "data": {
      "image/png": "[encoded data removed]",
      "text/plain": [
       "<Figure size 432x288 with 1 Axes>"
      ]
     },
     "metadata": {
      "needs_background": "light"
     },
     "output_type": "display_data"
    }
   ],
   "source": [
    "#plotting a bar chart to visualize the results of Most_Flights dataframe\n",
    "Most_Flights.plot.bar()"
   ]
  },
  {
   "cell_type": "markdown",
   "metadata": {},
   "source": [
    "#### Our difference graph proves our conclusion that there's a major drop off from the two leading airlines to the other airlines:"
   ]
  },
  {
   "cell_type": "code",
   "execution_count": 19,
   "metadata": {},
   "outputs": [
    {
     "data": {
      "text/plain": [
       "<matplotlib.axes._subplots.AxesSubplot at 0x2417f07cee0>"
      ]
     },
     "execution_count": 19,
     "metadata": {},
     "output_type": "execute_result"
    },
    {
     "data": {
      "image/png": "[encoded data removed]",
      "text/plain": [
       "<Figure size 432x288 with 1 Axes>"
      ]
     },
     "metadata": {
      "needs_background": "light"
     },
     "output_type": "display_data"
    }
   ],
   "source": [
    "#plotting a bar chart to visualize the results of Most_Flights_Diff dataframe\n",
    "Most_Flights_Diff.plot.bar()"
   ]
  },
  {
   "cell_type": "markdown",
   "metadata": {},
   "source": [
    "### Research results for question 2"
   ]
  },
  {
   "cell_type": "markdown",
   "metadata": {},
   "source": [
    "As can be seen from the charts below, Southwest Airlines (WN) has been experiencing delays in both arrival and departure, which is an indication of the company's weakness. However, it is not as bad as others. In fact, JetBlue Airlines (B6) and EVA Air (EV) suffer from major arrival and departure delays. "
   ]
  },
  {
   "cell_type": "code",
   "execution_count": 14,
   "metadata": {},
   "outputs": [
    {
     "data": {
      "text/plain": [
       "<matplotlib.axes._subplots.AxesSubplot at 0x2417efa9460>"
      ]
     },
     "execution_count": 14,
     "metadata": {},
     "output_type": "execute_result"
    },
    {
     "data": {
      "image/png": "[encoded data removed]",
      "text/plain": [
       "<Figure size 432x288 with 1 Axes>"
      ]
     },
     "metadata": {
      "needs_background": "light"
     },
     "output_type": "display_data"
    }
   ],
   "source": [
    "#plotting a horizontal bar chart to visualize the results of Arrivals_Delay dataframe\n",
    "Arrivals_Delay.plot.barh()"
   ]
  },
  {
   "cell_type": "code",
   "execution_count": 15,
   "metadata": {},
   "outputs": [
    {
     "data": {
      "text/plain": [
       "<matplotlib.axes._subplots.AxesSubplot at 0x2417f01c460>"
      ]
     },
     "execution_count": 15,
     "metadata": {},
     "output_type": "execute_result"
    },
    {
     "data": {
      "image/png": "[encoded data removed]",
      "text/plain": [
       "<Figure size 432x288 with 1 Axes>"
      ]
     },
     "metadata": {
      "needs_background": "light"
     },
     "output_type": "display_data"
    }
   ],
   "source": [
    "#plotting a horizontal bar chart to visualize the results of Departures_Delay dataframe\n",
    "Departures_Delay.plot.barh()"
   ]
  },
  {
   "cell_type": "markdown",
   "metadata": {},
   "source": [
    "### Research results for question 3"
   ]
  },
  {
   "cell_type": "markdown",
   "metadata": {},
   "source": [
    "As our graphs show, there is an obvious destination to which the majority of the Houston flights go, which is Dallas, TX. In addition, the next three destinations are also within the 5 hour flight range from Houston, meaning that Houston airports operate as a central location for Mid-western travel."
   ]
  },
  {
   "cell_type": "code",
   "execution_count": 16,
   "metadata": {},
   "outputs": [
    {
     "data": {
      "text/plain": [
       "<matplotlib.axes._subplots.AxesSubplot at 0x2417efad130>"
      ]
     },
     "execution_count": 16,
     "metadata": {},
     "output_type": "execute_result"
    },
    {
     "data": {
      "image/png": "[encoded data removed]",
      "text/plain": [
       "<Figure size 432x288 with 1 Axes>"
      ]
     },
     "metadata": {
      "needs_background": "light"
     },
     "output_type": "display_data"
    }
   ],
   "source": [
    "#plotting a bar chart to visualize the results of Most_Common_Dest dataframe\n",
    "Most_Common_Dest.plot.bar()"
   ]
  },
  {
   "cell_type": "markdown",
   "metadata": {},
   "source": [
    "#### The differences between the most common destinations:"
   ]
  },
  {
   "cell_type": "code",
   "execution_count": 17,
   "metadata": {},
   "outputs": [
    {
     "data": {
      "text/plain": [
       "<matplotlib.axes._subplots.AxesSubplot at 0x2417f0cfa30>"
      ]
     },
     "execution_count": 17,
     "metadata": {},
     "output_type": "execute_result"
    },
    {
     "data": {
      "image/png": "[encoded data removed]",
      "text/plain": [
       "<Figure size 432x288 with 1 Axes>"
      ]
     },
     "metadata": {
      "needs_background": "light"
     },
     "output_type": "display_data"
    }
   ],
   "source": [
    "#plotting a line chart to visualize the results of the Common_Flights_Diff dataframe\n",
    "Common_Flights_Diff.plot.line()"
   ]
  },
  {
   "cell_type": "markdown",
   "metadata": {},
   "source": [
    "# Conclusion:"
   ]
  },
  {
   "cell_type": "markdown",
   "metadata": {},
   "source": [
    "Looking at our results, we see two airlines with excellent potential for investments: AA - American Airlines, and XE - ExpressJet Airlines. \n",
    "\n",
    "ExpressJet Airlines and American Airlines both do not appear on either delay list. American Airlines is #5 on the most common flights results, while ExpressJet is #2 in the results.\n",
    "\n",
    "Continental Airlines would also be considered a good investment, but further research would have to be conducted for their departure delays.\n",
    "\n",
    "For further investments related to the airlines industry, our client can look towards business opportunities in Dallas. It can be investing in taxi services or car rentals near the two Dallas airports in our results for question 3. These two airports receive the most flights from Houston, meaning the area around the airports see many daily travelers. Travelers make use of car services, which in turn creates a lot of revenue for those Dallas industries.\n",
    "\n",
    "This is great information for our client. It allows him to see the best airlines and airport areas to invest in, in Houston. However, seeing as he is a businessman, he may also want a report on the financials of these airlines.  This could be a great extension of our project. We could find yearly and/or quarterly financial reports and balance sheets for each carrier heading out of Houston for the same amount of time as our first data set. The reports could confirm or negate our findings here. However, the numebrs would most likely confirm our findings. The strengths of these three airlines make them profitable, and therefore, good investments. "
   ]
  }
 ],
 "metadata": {
  "kernelspec": {
   "display_name": "Python 3",
   "language": "python",
   "name": "python3"
  },
  "language_info": {
   "codemirror_mode": {
    "name": "ipython",
    "version": 3
   },
   "file_extension": ".py",
   "mimetype": "text/x-python",
   "name": "python",
   "nbconvert_exporter": "python",
   "pygments_lexer": "ipython3",
   "version": "3.8.3"
  }
 },
 "nbformat": 4,
 "nbformat_minor": 4
}
