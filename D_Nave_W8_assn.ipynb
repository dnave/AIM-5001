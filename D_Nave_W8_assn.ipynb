{
 "cells": [
  {
   "cell_type": "markdown",
   "metadata": {},
   "source": [
    "# Week 8 Assignment - Regular Expressions\n",
    "## Dana Nave"
   ]
  },
  {
   "cell_type": "code",
   "execution_count": 155,
   "metadata": {},
   "outputs": [],
   "source": [
    "# Load Regular Expressions library\n",
    "import re"
   ]
  },
  {
   "cell_type": "markdown",
   "metadata": {},
   "source": [
    "## Question 1:\n",
    "Extract the names of each individual from the unformatted text string and store them in a vector of some sort. \n",
    "\n",
    "##### My approach to answering this question is:\n",
    "- Starting by organizing the data for easy and clear use of it\n",
    "- Define an expression that would organize the text according to the requirement:    \n",
    "    1. \\D+: would delete the ',' as a text from the list because of one digit (0-9) or + character.\n",
    "    2. [a-zA-Z]+: would find lower or upper case letters, between 1 to an infinite amount of times.\n",
    "- Assign text into the final expression \\D+[a-zA-Z] that will combine the two regexes."
   ]
  },
  {
   "cell_type": "code",
   "execution_count": 156,
   "metadata": {
    "scrolled": true
   },
   "outputs": [
    {
     "name": "stdout",
     "output_type": "stream",
     "text": [
      "Original text:\n",
      "555-1239Moe Szyslak(636) 555-0113Burns, C. Montgomery555 -6542Rev. Timothy Lovejoy555 8904Ned Flanders636-555-3226Simpson, Homer5553642Dr. Julius Hibbert\n",
      "\n",
      "Here is the organized data:\n",
      "['Moe Szyslak', 'Burns, C. Montgomery', 'Rev. Timothy Lovejoy', 'Ned Flanders', 'Simpson, Homer', 'Dr. Julius Hibbert']\n"
     ]
    }
   ],
   "source": [
    "# Assign unorganized text into a new data entity called names\n",
    "names = \"555-1239Moe Szyslak(636) 555-0113Burns, C. Montgomery555 -6542Rev. Timothy Lovejoy555 8904Ned Flanders636-555-3226Simpson, Homer5553642Dr. Julius Hibbert\"\n",
    "\n",
    "# Print original list for referance\n",
    "print('Original text:')\n",
    "print(names)\n",
    "print()\n",
    "# Create a new data entity called Compiled \n",
    "# Call the regex function compile according to the text form required \n",
    "Compiled = re.compile('\\D+[a-zA-Z]')\n",
    "\n",
    "# Create a new data entity called Organized\n",
    "# Call the findall function which will assign the text structure on the original text \n",
    "Organized = Compiled.findall(names)\n",
    "\n",
    "# Print organized data\n",
    "print('Here is the organized data:')\n",
    "print(Organized)"
   ]
  },
  {
   "cell_type": "markdown",
   "metadata": {},
   "source": [
    "##### The example vector for comparison: \n",
    "\"Moe Szyslak\" \"Burns, C. Montgomery\" \"Rev. Timothy Lovejoy\" \"Ned Flanders\" \"Simpson,Homer\" \"Dr. Julius Hibbert\""
   ]
  },
  {
   "cell_type": "markdown",
   "metadata": {},
   "source": [
    "## Question 2:\n",
    "Using your new vector containing only the names of the six individuals, complete the following tasks: \n",
    "- a. Use your regex skills to rearrange the vector so that all elements conform to the standard “firstname lastname”, preserving any titles (e.g., “Rev.”, “Dr.”, etc) or middle/second names. \n",
    "- b. Construct a logical vector indicating whether a character has a title (i.e., Rev. and Dr.). \n",
    "- c. Construct a logical vector indicating whether a character has a middle/second name.\n",
    "\n",
    "##### My approach to answering this question is:\n",
    "Create a new, organized list that I created and create a loop for each of the required subquestions according to the relevant regex which I will design. Once I believe the regex is providing the required sequence, I will assign the text to it."
   ]
  },
  {
   "cell_type": "code",
   "execution_count": 157,
   "metadata": {},
   "outputs": [
    {
     "name": "stdout",
     "output_type": "stream",
     "text": [
      " The new list of names that include the following order: “firstname lastname”, preserving any titles:\n",
      "['Moe Szyslak', 'C. Montgomery Burns', 'Rev. Timothy Lovejoy', 'Ned Flanders', 'Homer Simpson', 'Dr. Julius Hibbert']\n"
     ]
    }
   ],
   "source": [
    "# Subquestion a:\n",
    "# Create a new list for the organized names called Org_Name\n",
    "Org_Name = Organized.copy()\n",
    "\n",
    "# Create a loop that matches the string in separated groups\n",
    "# Assign the new list the length of the Organized list\n",
    "# Define a group separation to identify the differences with the use of a ',' and one white space\n",
    "# In order to modify the groups to apply to the required order, switch the group order\n",
    "for i in range(len(Org_Name)):\n",
    " Org_Name[i] = re.sub(r'([^,]*), (.*)',r'\\2 \\1',Organized[i]); \n",
    "\n",
    "# Print the new organized name list \n",
    "print(' The new list of names that include the following order: “firstname lastname”, preserving any titles:')\n",
    "print(Org_Name)"
   ]
  },
  {
   "cell_type": "code",
   "execution_count": 158,
   "metadata": {},
   "outputs": [
    {
     "name": "stdout",
     "output_type": "stream",
     "text": [
      "List the names that include a title:\n",
      "Rev. Timothy Lovejoy\n",
      "Dr. Julius Hibbert\n",
      "\n",
      "The logical vector test results are as follows:\n",
      "['False', 'False', 'True', 'False', 'False', 'True']\n"
     ]
    }
   ],
   "source": [
    "# Subquestion b:\n",
    "# Create a new list for the organized names called Title_Name\n",
    "Title_Name = Organized\n",
    "\n",
    "# Print a title to the text list items that include a title\n",
    "print('List the names that include a title:')\n",
    "\n",
    "# Create a loop that matches the string in separated groups: title / no title\n",
    "# Assign the new list the length of the Organized list\n",
    "# Search for the following pattern:\n",
    "# 1) an upper case followed by lower case letter (can be more than 1)\n",
    "# 2) a . (period)\n",
    "# 3) if the pattern is identified, assign a True boolean identifier and print name according to the following order: \n",
    "# title, firstname, lastname\n",
    "# 4) if the pattern is not found, assign a False boolean identifier\n",
    "for i in range(len(Title_Name)):\n",
    "    if bool(re.search(r'[A-Z][a-z]+[.]',Org_Name[i]))== True:\n",
    "        Title_Name[i] = \"True\"\n",
    "        print(Org_Name[i])\n",
    "    else:\n",
    "        Title_Name[i] = \"False\"\n",
    "print()\n",
    "# Print a title and the logical vector test\n",
    "print('The logical vector test results are as follows:')\n",
    "print(Title_Name)\n"
   ]
  },
  {
   "cell_type": "markdown",
   "metadata": {},
   "source": [
    "##### There are  2 people in the list that have a title."
   ]
  },
  {
   "cell_type": "code",
   "execution_count": 159,
   "metadata": {},
   "outputs": [
    {
     "name": "stdout",
     "output_type": "stream",
     "text": [
      "List of the names that include a middle name:\n",
      "C. Montgomery Burns\n",
      "\n",
      "The logical vector test results are as follows:\n"
     ]
    },
    {
     "data": {
      "text/plain": [
       "['False', 'True', 'False', 'False', 'False', 'False']"
      ]
     },
     "execution_count": 159,
     "metadata": {},
     "output_type": "execute_result"
    }
   ],
   "source": [
    "# Subquestion c:\n",
    "# Create a new list for the organized names called Middle_Name\n",
    "Middle_Name = Organized\n",
    "\n",
    "\n",
    "# Print a title to the text list items that include a title\n",
    "print('List of the names that include a middle name:')\n",
    "\n",
    "# Create a loop that matches the string in separated groups: middle name / no middle name\n",
    "# Assign the new list the length of the Organized list\n",
    "# Search for the following pattern in the Org_Name list, which indicate the following:\n",
    "# 1) A name does not include a middle name if it is divided into 2 parts (based on white space), indicate False boolean identifier\n",
    "# 2) A name does include a middle name or a title if it is divided into 3 parts (based on white space), therefore the following will occur:\n",
    "# if name was included in the Title_Name list, indicate False boolean identifier\n",
    "# if name was not included in the Title_Name list, indicate True boolean identifier\n",
    "# All boolean will be printed under the logical vector\n",
    "for i in range(len(Middle_Name)):\n",
    "    if len((re.split(r'\\s',Org_Name[i])))==2:\n",
    "        Middle_Name[i] = \"False\"\n",
    "    elif (len(re.split(r'\\s',Org_Name[i]))==3 and Title_Name[i] == \"True\")== True:\n",
    "        Middle_Name[i] = \"False\"\n",
    "    else:\n",
    "        Middle_Name[i] = \"True\"\n",
    "        print(Org_Name[i]);\n",
    "\n",
    "print()\n",
    "# Print a title and the logical vector test\n",
    "print('The logical vector test results are as follows:')\n",
    "Middle_Name"
   ]
  },
  {
   "cell_type": "markdown",
   "metadata": {},
   "source": [
    "##### There is only 1 person in the list that has a middle name."
   ]
  },
  {
   "cell_type": "markdown",
   "metadata": {},
   "source": [
    "## Question 3"
   ]
  },
  {
   "cell_type": "raw",
   "metadata": {},
   "source": [
    "Consider the HTML string <title>+++BREAKING NEWS+++<title>. We would like to extract the first HTML tag (i.e., “<title>”). To do so we write the regular expression “<.+>”. Explain why this fails and correct the expression. "
   ]
  },
  {
   "cell_type": "markdown",
   "metadata": {},
   "source": [
    "##### My approach to answering this question is:\n",
    "Define a new object to save the original html string, and print it for observation. Find the issue with the regex and create a new regex based on the original that would solve it. Once done, explain what was the problem."
   ]
  },
  {
   "cell_type": "code",
   "execution_count": 160,
   "metadata": {},
   "outputs": [
    {
     "name": "stdout",
     "output_type": "stream",
     "text": [
      "The result of the original text using the requested regex '<.+>' is:\n"
     ]
    },
    {
     "data": {
      "text/plain": [
       "['<title>+++BREAKING NEWS+++<title>']"
      ]
     },
     "execution_count": 160,
     "metadata": {},
     "output_type": "execute_result"
    }
   ],
   "source": [
    "# Create a new HTML string from the question, name it HTML_Original1, include '' because it is a text\n",
    "HTML_Original1 = '<title>+++BREAKING NEWS+++<title>'\n",
    "\n",
    "# Create a new data object called Tag_Search and save the results of the function to it\n",
    "# Call the compile function and assign the correct regex\n",
    "Tag_Search = re.compile('<.+>')\n",
    "\n",
    "# Create a new data object Tag and save the \n",
    "# Assign the regex Tag_Search to the HTML_Original results of the function to it\n",
    "# Call the findall function to find all text that is aligned with the regex\n",
    "Tag = Tag_Search.findall(HTML_Original1)\n",
    "\n",
    "# Print a title and the results of the function\n",
    "print(\"The result of the original text using the requested regex '<.+>' is:\")\n",
    "tag"
   ]
  },
  {
   "cell_type": "code",
   "execution_count": 161,
   "metadata": {},
   "outputs": [
    {
     "name": "stdout",
     "output_type": "stream",
     "text": [
      "The result of extraction with the use of the new regex '<.*?>' is:\n"
     ]
    },
    {
     "data": {
      "text/plain": [
       "'<title>'"
      ]
     },
     "execution_count": 161,
     "metadata": {},
     "output_type": "execute_result"
    }
   ],
   "source": [
    "# Assign the regex to the HTML_Original1 to extract the first tag\n",
    "Updated_Tag =re.search(r'<.*?>',html_str)\n",
    "\n",
    "# Print a title and the results of the extraction\n",
    "print(\"The result of extraction with the use of the new regex '<.*?>' is:\")\n",
    "Updated_Tag.group()"
   ]
  },
  {
   "cell_type": "markdown",
   "metadata": {},
   "source": [
    "##### An additional, shorter way to extract the first html is as follws:"
   ]
  },
  {
   "cell_type": "code",
   "execution_count": 162,
   "metadata": {},
   "outputs": [
    {
     "name": "stdout",
     "output_type": "stream",
     "text": [
      "The original regex results\n",
      "<title>+++BREAKING NEWS+++</title>\n",
      "\n",
      "The updated regex results\n",
      "<title>\n"
     ]
    }
   ],
   "source": [
    "# The original, failing regex, called and saved under the name HTML_Original2\n",
    "HTML_Original2  = r'<title>+++BREAKING NEWS+++</title>'\n",
    "\n",
    "# Print regex\n",
    "print('The original regex results')\n",
    "print(HTML_Original2)\n",
    "\n",
    "# The updated regex using the match function\n",
    "Updated_HTML_Original2 = re.match(r'<.+?>', HTML_Original2).group()\n",
    "\n",
    "#print results\n",
    "print()\n",
    "print('The updated regex results')\n",
    "print(Updated_HTML_Original2)"
   ]
  },
  {
   "cell_type": "markdown",
   "metadata": {},
   "source": [
    "##### The original regex failed because:\n",
    "The regex '<.+>' that was given will match < and then the regex .+ will match a character between 1 and infinate amount of times (as many times as possible). Then, the regex will close by >, resulting in the print of the entire html. \n",
    "\n",
    "##### In order to fix it:\n",
    "     1) Change the + sign into a *? that will change the regex from 'as many times as possible' to 'the least time as possible'. With the use of the regex search() function, the pattern that I assigned match the text. Finally, the regex group() function will extract only the text pattern that I assigned, therefore only the text '< title>' will be printed. \n",
    "\n",
    "    2) Change the + sign into a +? that will change the regex 'as many times as possible' to 'the least time as possible' (not a \"greedy\" way). With the use of the regex match() function, only the text that follows that pattern will be printed."
   ]
  },
  {
   "cell_type": "markdown",
   "metadata": {},
   "source": [
    "## Question 4:\n",
    "Consider the string “(5-3)^2=5^2-2*5*3+3^2” conforms to the binomial theorem. We would like to extract the formula in the string. To do so we write the regular expression “[^0-9=+*()]+”. Explain why this fails and correct the expression."
   ]
  },
  {
   "cell_type": "code",
   "execution_count": 165,
   "metadata": {},
   "outputs": [
    {
     "name": "stdout",
     "output_type": "stream",
     "text": [
      "The result of extraction of the Binomial Theorem using the given regex '[^0-9=+()]+' is:\n",
      "['-', '^', '^', '-', '^']\n",
      "\n",
      "The result of extraction of Binomial Theorem Formula using the new regex '[0-9=+*()-^]+' is:\n",
      "['(5-3)^2=5^2-2*5*3+3^2']\n"
     ]
    }
   ],
   "source": [
    "# Create a new data string called Data_STR, assign the binominal theorem string to it.\n",
    "Data_STR = \"(5-3)^2=5^2-2*5*3+3^2\"\n",
    "\n",
    "# Create a new entity and save the given formula to it\n",
    "# Call the regex compile() function to apply the formula\n",
    "Formula_Search = re.compile('[^0-9=+*()]+')\n",
    "\n",
    "# Create a new entity and save the formula results to it.\n",
    "# Call the regex findall() function to extract the formula expression as a string\n",
    "Binomial_Theorem_Formula = Formula_Search.findall(Data_STR)\n",
    "\n",
    "# Print a title and the result of  the extraction of the formula\n",
    "print(\"The result of extraction of the Binomial Theorem using the given regex '[^0-9=+()]+' is:\")\n",
    "print(Binomial_Theorem_Formula)\n",
    "print()\n",
    "# Create a new entity called Find_Formula and save the results of the function to it.\n",
    "# Call the regex compile() function to apply the updated formula\n",
    "Find_Formula = re.compile('[0-9=+*()-^]+')\n",
    "\n",
    "# Assign the Find_Formula regex to the Data_STR to extract the full formula expression as a string\n",
    "Full_Binomial_Theorem_Formula = Find_Formula.findall(Data_STR)\n",
    "\n",
    "# Print a title and the result of  the extraction of the formula\n",
    "print(\"The result of extraction of Binomial Theorem Formula using the new regex '[0-9=+*()-^]+' is:\")\n",
    "print(Full_Binomial_Theorem_Formula)"
   ]
  }
 ],
 "metadata": {
  "kernelspec": {
   "display_name": "Python 3",
   "language": "python",
   "name": "python3"
  },
  "language_info": {
   "codemirror_mode": {
    "name": "ipython",
    "version": 3
   },
   "file_extension": ".py",
   "mimetype": "text/x-python",
   "name": "python",
   "nbconvert_exporter": "python",
   "pygments_lexer": "ipython3",
   "version": "3.8.3"
  }
 },
 "nbformat": 4,
 "nbformat_minor": 4
}
