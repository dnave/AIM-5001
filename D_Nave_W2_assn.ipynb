{
 "cells": [
  {
   "cell_type": "code",
   "execution_count": 51,
   "metadata": {},
   "outputs": [
    {
     "name": "stdout",
     "output_type": "stream",
     "text": [
      "['high', 'high', '2', '4', 'med', 'low', 'unacc']\n",
      "['high', 'high', '4', 'more', 'small', 'high', 'acc']\n",
      "['high', 'high', '4', 'more', 'big', 'low', 'unacc']\n",
      "['high', 'low', '2', 'more', 'big', 'high', 'acc']\n",
      "['vhigh', 'low', '3', '2', 'med', 'med', 'unacc']\n",
      "['low', 'high', '2', '2', 'small', 'low', 'unacc']\n",
      "['med', 'med', '4', 'more', 'med', 'high', 'vgood']\n",
      "['low', 'low', '3', '2', 'big', 'med', 'unacc']\n",
      "['vhigh', 'low', '2', '2', 'small', 'low', 'unacc']\n",
      "['vhigh', 'high', '4', '4', 'med', 'low', 'unacc']\n",
      "['low', 'low', '2', '2', 'med', 'med', 'unacc']\n",
      "['vhigh', 'low', '4', 'more', 'small', 'high', 'acc']\n",
      "['high', 'low', '2', '4', 'big', 'med', 'acc']\n",
      "['low', 'vhigh', '3', 'more', 'big', 'low', 'unacc']\n",
      "['high', 'low', '5more', '2', 'big', 'med', 'unacc']\n",
      "['vhigh', 'high', '2', 'more', 'med', 'high', 'unacc']\n",
      "['med', 'med', '2', '2', 'small', 'low', 'unacc']\n",
      "['high', 'low', '5more', '4', 'med', 'high', 'acc']\n",
      "['low', 'low', '3', 'more', 'med', 'high', 'vgood']\n",
      "['low', 'low', '2', '2', 'big', 'med', 'unacc']\n",
      "['med', 'high', '4', '2', 'big', 'high', 'unacc']\n",
      "['low', 'low', '2', '2', 'small', 'high', 'unacc']\n",
      "['vhigh', 'high', '5more', '4', 'med', 'med', 'unacc']\n",
      "['med', 'vhigh', '2', '2', 'big', 'low', 'unacc']\n",
      "['low', 'vhigh', '4', '4', 'big', 'low', 'unacc']\n",
      "['vhigh', 'low', '3', 'more', 'big', 'low', 'unacc']\n",
      "['med', 'vhigh', '3', '4', 'small', 'low', 'unacc']\n",
      "['high', 'high', '3', '4', 'med', 'med', 'unacc']\n",
      "['low', 'high', '5more', '2', 'big', 'low', 'unacc']\n",
      "['med', 'high', '5more', '2', 'med', 'med', 'unacc']\n",
      "['high', 'low', '3', '4', 'med', 'high', 'acc']\n",
      "['high', 'vhigh', '5more', '4', 'med', 'med', 'unacc']\n",
      "['low', 'low', '5more', '2', 'med', 'low', 'unacc']\n",
      "['vhigh', 'vhigh', '4', '2', 'big', 'high', 'unacc']\n",
      "['high', 'low', '3', '2', 'big', 'high', 'unacc']\n"
     ]
    }
   ],
   "source": [
    "import csv\n",
    "# be sure to update the path below to reflect your own environment!!\n",
    "# also be sure that the code is properly indented after you paste it!\n",
    "\n",
    "with open(r'C:\\Users\\danan\\Desktop\\Yeshiva\\Fall 2020\\AIM 5001 Data Aquisition & Management\\Week 2/cars-sample35.txt') as csvfile:\n",
    " readCSV = csv.reader(csvfile)\n",
    " for row in readCSV:\n",
    "   # print each row as read by the csv.reader function\n",
    "   print(row)"
   ]
  },
  {
   "cell_type": "markdown",
   "metadata": {},
   "source": [
    "Your first task is to read the file again and extract these seven attributes from each line of the file and create seven distinct Python list objects comprised solely of the values you extracted for a given attribute. In other words, you should have lists of prices, maintenance costs, number of doors, etc. For example, the first five \"luggage\" values should be as follows: ['med', 'small', 'big', 'big', 'med'] One way to complete this task would be to use the code snippet from above as a starting point: you could replace the “print(row)” statement with whatever Python code you feel is necessary to create the seven required list objects."
   ]
  },
  {
   "cell_type": "code",
   "execution_count": 54,
   "metadata": {},
   "outputs": [
    {
     "name": "stdout",
     "output_type": "stream",
     "text": [
      "Price:\n",
      "['high', 'high', 'high', 'high', 'vhigh', 'low', 'med', 'low', 'vhigh', 'vhigh', 'low', 'vhigh', 'high', 'low', 'high', 'vhigh', 'med', 'high', 'low', 'low', 'med', 'low', 'vhigh', 'med', 'low', 'vhigh', 'med', 'high', 'low', 'med', 'high', 'high', 'low', 'vhigh', 'high']\n",
      "Maintenance cost:\n",
      "['high', 'high', 'high', 'low', 'low', 'high', 'med', 'low', 'low', 'high', 'low', 'low', 'low', 'vhigh', 'low', 'high', 'med', 'low', 'low', 'low', 'high', 'low', 'high', 'vhigh', 'vhigh', 'low', 'vhigh', 'high', 'high', 'high', 'low', 'vhigh', 'low', 'vhigh', 'low']\n",
      "Number of doors:\n",
      "['2', '4', '4', '2', '3', '2', '4', '3', '2', '4', '2', '4', '2', '3', '5more', '2', '2', '5more', '3', '2', '4', '2', '5more', '2', '4', '3', '3', '3', '5more', '5more', '3', '5more', '5more', '4', '3']\n",
      "Number of passangers:\n",
      "['4', 'more', 'more', 'more', '2', '2', 'more', '2', '2', '4', '2', 'more', '4', 'more', '2', 'more', '2', '4', 'more', '2', '2', '2', '4', '2', '4', 'more', '4', '4', '2', '2', '4', '4', '2', '2', '2']\n",
      "Luggage capacity:\n",
      "['med', 'small', 'big', 'big', 'med', 'small', 'med', 'big', 'small', 'med', 'med', 'small', 'big', 'big', 'big', 'med', 'small', 'med', 'med', 'big', 'big', 'small', 'med', 'big', 'big', 'big', 'small', 'med', 'big', 'med', 'med', 'med', 'med', 'big', 'big']\n",
      "Safety rating:\n",
      "['low', 'high', 'low', 'high', 'med', 'low', 'high', 'med', 'low', 'low', 'med', 'high', 'med', 'low', 'med', 'high', 'low', 'high', 'high', 'med', 'high', 'high', 'med', 'low', 'low', 'low', 'low', 'med', 'low', 'med', 'high', 'med', 'low', 'high', 'high']\n",
      "Classification of vehicle:\n",
      "['unacc', 'acc', 'unacc', 'acc', 'unacc', 'unacc', 'vgood', 'unacc', 'unacc', 'unacc', 'unacc', 'acc', 'acc', 'unacc', 'unacc', 'unacc', 'unacc', 'acc', 'vgood', 'unacc', 'unacc', 'unacc', 'unacc', 'unacc', 'unacc', 'unacc', 'unacc', 'unacc', 'unacc', 'unacc', 'acc', 'unacc', 'unacc', 'unacc', 'unacc']\n"
     ]
    }
   ],
   "source": [
    "import csv\n",
    "\n",
    "# open the data from the relevant folder and define the new lists as instructed.\n",
    "with open(r'C:\\Users\\danan\\Desktop\\Yeshiva\\Fall 2020\\AIM 5001 Data Aquisition & Management\\Week 2/cars-sample35.txt') as csvfile:\n",
    " readCSV = csv.reader(csvfile)\n",
    " Price=[]\n",
    " Maintenance_cost=[]\n",
    " Number_of_doors=[]\n",
    " Number_of_passengers=[]\n",
    " Luggage_capacity=[]\n",
    " Safety_rating=[]\n",
    " Classification_of_vehicle=[]\n",
    " for row in readCSV:\n",
    "\n",
    "# update each new list by defining the relevant index key in any of the original lists\n",
    "    Price.append(row[0])\n",
    "    Maintenance_cost.append(row[1])\n",
    "    Number_of_doors.append(row[2])\n",
    "    Number_of_passengers.append(row[3])\n",
    "    Luggage_capacity.append(row[4])\n",
    "    Safety_rating.append(row[5])\n",
    "    Classification_of_vehicle.append(row[6])\n",
    "    \n",
    "# print each list as read by the csv.reader function    \n",
    "print(\"Price:\")\n",
    "print(Price)\n",
    "print(\"Maintenance cost:\")\n",
    "print(Maintenance_cost)\n",
    "print(\"Number of doors:\")\n",
    "print(Number_of_doors)\n",
    "print(\"Number of passangers:\")\n",
    "print(Number_of_passengers)\n",
    "print(\"Luggage capacity:\")\n",
    "print(Luggage_capacity)\n",
    "print(\"Safety rating:\")\n",
    "print(Safety_rating)\n",
    "print(\"Classification of vehicle:\")\n",
    "print(Classification_of_vehicle)"
   ]
  },
  {
   "cell_type": "markdown",
   "metadata": {},
   "source": [
    "Your second task is to find the list index values of each automobile having a “price” rating of \"med\". Create a new list object with your result. HINT: you can accomplish this task by searching the list of price values you created earlier. Be sure to print your results."
   ]
  },
  {
   "cell_type": "code",
   "execution_count": 56,
   "metadata": {},
   "outputs": [
    {
     "name": "stdout",
     "output_type": "stream",
     "text": [
      "The index values of cars under the 'med' price category are:\n",
      "[6, 16, 20, 23, 26, 29]\n"
     ]
    }
   ],
   "source": [
    "# creating a new list called Med_Price_Cars\n",
    "Med_Price_Cars=[] \n",
    "\n",
    "#The length of the price list is the same as the amount of the cars\n",
    "Cars=len(Price);\n",
    "\n",
    "#create a for loop based on the range\n",
    "for i in range(Cars):\n",
    "\n",
    "# if value is equal to med, the loop will find it\n",
    " if Price[i] =='med':\n",
    "        \n",
    "# appending the list so that we add a index indicator\n",
    "        Med_Price_Cars.append(i)\n",
    "\n",
    "#printing the new list, that includes the index number in the original Price list numbers\n",
    "print(\"The index values of cars under the 'med' price category are:\")\n",
    "print(Med_Price_Cars)"
   ]
  },
  {
   "cell_type": "markdown",
   "metadata": {},
   "source": [
    "Your third task is to find the \"number of passengers\" value for each auto having a \"price\" value of \"med\". Create a new list to store your findings and be sure to print your results."
   ]
  },
  {
   "cell_type": "code",
   "execution_count": 57,
   "metadata": {},
   "outputs": [
    {
     "name": "stdout",
     "output_type": "stream",
     "text": [
      "The index values for Number of passengers that are under the 'med' price category are:\n",
      "['more', '2', '2', '2', '4', '2']\n"
     ]
    }
   ],
   "source": [
    "# creating a new list called Passengers_number_in_med_price including the 'med' price range and the number od passengers\n",
    "Passengers_number_in_med_price=[]\n",
    "\n",
    "# creating a loop to find the index values 'med' in price list and the number of passengers from the passangers list\n",
    "for i in range(Cars): \n",
    "\n",
    "# if value is equal to med, the for loop will find it      \n",
    " if Price[i] =='med':\n",
    "        \n",
    "# appending the list so that we add a index indicator to both price and passanger lists            \n",
    "            Med_Price_Cars.append(i)\n",
    "            Passengers_number_in_med_price.append(Number_of_passengers[i])\n",
    "        \n",
    "#printing the new list that includes the index number of passsanger numbers for cars that are in the med price range \n",
    "print(\"The index values for Number of passengers that are under the 'med' price category are:\")\n",
    "print(Passengers_number_in_med_price)"
   ]
  },
  {
   "cell_type": "markdown",
   "metadata": {},
   "source": [
    "Your fourth task is to find the index value for each automobile having a “price” value of \"high\" and a “maintenance” value that is not \"low\". Create a new list to store your findings and be sure to print your results."
   ]
  },
  {
   "cell_type": "code",
   "execution_count": 59,
   "metadata": {},
   "outputs": [
    {
     "name": "stdout",
     "output_type": "stream",
     "text": [
      "The index value for high price and low maintenance cars are:\n",
      "[0, 1, 2, 27, 31]\n"
     ]
    }
   ],
   "source": [
    "# creating a new list \n",
    "High_price_low_maintnenace=[]\n",
    "\n",
    "\n",
    "#creating a loop to find the index numbers\n",
    "for i in range(Cars):\n",
    " if (Price[i]== 'high' and Maintenance_cost[i]!='low'):\n",
    "      High_price_low_maintnenace.append(i)  \n",
    "\n",
    "# printing the index values of the cars that are not low maintenance and have high price        \n",
    "print(\"The index value for high price and low maintenance cars are:\")        \n",
    "print(High_price_low_maintnenace)"
   ]
  },
  {
   "cell_type": "markdown",
   "metadata": {},
   "source": [
    "Your fifth task is to find the index value for each auto having 2 doors and a luggage value of \"big\". Create a new list to store your findings and be sure to print your results."
   ]
  },
  {
   "cell_type": "code",
   "execution_count": 61,
   "metadata": {},
   "outputs": [
    {
     "name": "stdout",
     "output_type": "stream",
     "text": [
      "The index value for cars that have 2 doors and big luggage space are:\n",
      "[3, 12, 19, 23]\n"
     ]
    }
   ],
   "source": [
    "#creating a new list for 2-door cars with big luggage space\n",
    "Big_luggage_2_doors=[]\n",
    "\n",
    "#creating a loop for find the index numbers \n",
    "for i in range(Cars):\n",
    " if ( Number_of_doors[i] == '2' and Luggage_capacity[i] == 'big'):\n",
    "    Big_luggage_2_doors.append(i)\n",
    "    \n",
    "#printing the new list\n",
    "print(\"The index value for cars that have 2 doors and big luggage space are:\")\n",
    "print(Big_luggage_2_doors)"
   ]
  },
  {
   "cell_type": "markdown",
   "metadata": {},
   "source": [
    "Finally, create a new list containing the only the integer equivalents of the doors values. Keep in mind that the lists you have created thus far are composed solely of strings. If you find any values of '5more' in your list, convert them to a '5'. After converting the '5more' values to '5', convert all of the items in your list to their numeric equivalent and calculate the average number of doors across all 35 autos using whichever of Python's built in functions you require. Print your result."
   ]
  },
  {
   "cell_type": "code",
   "execution_count": 65,
   "metadata": {},
   "outputs": [
    {
     "name": "stdout",
     "output_type": "stream",
     "text": [
      "['2', '4', '4', '2', '3', '2', '4', '3', '2', '4', '2', '4', '2', '3', '5', '2', '2', '5', '3', '2', '4', '2', '5', '2', '4', '3', '3', '3', '5', '5', '3', '5', '5', '4', '3']\n",
      "\n",
      "The list of integer equivalents values of doors is:\n",
      "[2, 4, 4, 2, 3, 2, 4, 3, 2, 4, 2, 4, 2, 3, 5, 2, 2, 5, 3, 2, 4, 2, 5, 2, 4, 3, 3, 3, 5, 5, 3, 5, 5, 4, 3]\n",
      "\n",
      "The avarage number of doors across all 25 cars is:\n",
      "3.3\n"
     ]
    }
   ],
   "source": [
    "#creating a new list of the string values in the Number of doors list\n",
    "Number_of_doors_str=[]\n",
    "\n",
    "#creating a new list of the integer values in the Number of doors list\n",
    "Int_number_of_doors=[]\n",
    "\n",
    "#creating a loop to find all strings that are longer than 1 letter, inserting into a new string list\n",
    "#if longer, converting the string to '5' and amending the list\n",
    "for i in range(Cars):\n",
    " if (len(Number_of_doors[i])==1):\n",
    "    Number_of_doors_str.append(Number_of_doors[i])\n",
    " else:\n",
    "    Number_of_doors_str.append('5')\n",
    "\n",
    "#printing the new list with all string values\n",
    "print(Number_of_doors_int)\n",
    "print()\n",
    "\n",
    "#converting a list of strings into a list of integers and printing the new list\n",
    "Int_number_of_doors=[int(i) for i in Number_of_doors_str] \n",
    "print(\"The list of integer equivalents values of doors is:\")\n",
    "print(Int_number_of_doors)\n",
    "print()\n",
    "\n",
    "#importing the statistics module in order to use the mean function which is equivilant to the avarage\n",
    "import statistics\n",
    "\n",
    "#defining the avarage using the mean function\n",
    "avarage=statistics.mean(Int_number_of_doors)\n",
    "\n",
    "#printing the avarage number of doors, rounding the number to have 1 number after decimal points\n",
    "print(\"The avarage number of doors across all 25 cars is:\")\n",
    "print(round(avarage,1))"
   ]
  }
 ],
 "metadata": {
  "kernelspec": {
   "display_name": "Python 3",
   "language": "python",
   "name": "python3"
  },
  "language_info": {
   "codemirror_mode": {
    "name": "ipython",
    "version": 3
   },
   "file_extension": ".py",
   "mimetype": "text/x-python",
   "name": "python",
   "nbconvert_exporter": "python",
   "pygments_lexer": "ipython3",
   "version": "3.8.3"
  }
 },
 "nbformat": 4,
 "nbformat_minor": 4
}
