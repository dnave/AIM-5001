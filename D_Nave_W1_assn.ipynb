{
 "cells": [
  {
   "cell_type": "markdown",
   "metadata": {},
   "source": [
    "# <br>\n",
    "<br>\n",
    "\n",
    "# AIM 5001Data Acquisition & Management\n",
    "## **Assignment 1, Dana Nave**\n",
    "<br>\n",
    "<br>\n",
    "\n",
    "\n",
    "I chose to work on a travel database because I am interested in consumer behavior patterns, and I think that traveling is an excellent environment to observe spending behavior, satisfaction levels of experiences, and goods and services. These personal consumer reflections can be translated as numerical feedback to draw conclusions that can affect business around the world.\n",
    "\n",
    "I would like to understand how various cultural experiences affect personal consumer ratings. For example, do people feel more comfortable rating a restaurant than a religious institution? Are culinary ratings vary more in range than an art institution? \n"
   ]
  },
  {
   "cell_type": "markdown",
   "metadata": {},
   "source": [
    "* GitHub Link:\n",
    "https://github.com/dnave/AIM-5001/blob/master/tripadvisor_review.csv"
   ]
  },
  {
   "cell_type": "markdown",
   "metadata": {},
   "source": [
    "* Original Database Link:\n",
    "https://archive.ics.uci.edu/ml/datasets/Travel+Reviews#"
   ]
  }
 ],
 "metadata": {
  "kernelspec": {
   "display_name": "Python 3",
   "language": "python",
   "name": "python3"
  },
  "language_info": {
   "codemirror_mode": {
    "name": "ipython",
    "version": 3
   },
   "file_extension": ".py",
   "mimetype": "text/x-python",
   "name": "python",
   "nbconvert_exporter": "python",
   "pygments_lexer": "ipython3",
   "version": "3.8.3"
  }
 },
 "nbformat": 4,
 "nbformat_minor": 4
}
