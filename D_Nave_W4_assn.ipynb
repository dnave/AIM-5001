{
 "cells": [
  {
   "cell_type": "markdown",
   "metadata": {},
   "source": [
    "## Task 1:\n",
    "Writing a Python/NumPy code block that finds the distinct/unique common items between two arrays"
   ]
  },
  {
   "cell_type": "code",
   "execution_count": 116,
   "metadata": {},
   "outputs": [
    {
     "name": "stdout",
     "output_type": "stream",
     "text": [
      "The common values between array a and array b are:\n",
      "[2 4]\n"
     ]
    }
   ],
   "source": [
    "#importing NumPy to Notebook\n",
    "import numpy as np\n",
    "\n",
    "#Creating 2 new arrays\n",
    "a = np.array([1, 2, 3, 2, 3, 4, 3, 4, 5, 6])\n",
    "b = np.array([7, 2, 10, 2, 7, 4, 9, 4, 9, 8])\n",
    "\n",
    "# creating a new array called result\n",
    "result = (np.intersect1d(a, b)) #calling the np.intersect1d function to find common values in arrays a & b.\n",
    "print(\"The common values between array a and array b are:\") \n",
    "print(result) # printing new array with np.intersect1d function results"
   ]
  },
  {
   "cell_type": "markdown",
   "metadata": {},
   "source": [
    "## Task 2:\n",
    "Creating a new 5X3 array with numerical values of 1-15"
   ]
  },
  {
   "cell_type": "code",
   "execution_count": 120,
   "metadata": {},
   "outputs": [
    {
     "name": "stdout",
     "output_type": "stream",
     "text": [
      "A 3x5 array looks as follows:\n",
      "[[ 1  2  3  4  5]\n",
      " [ 6  7  8  9 10]\n",
      " [11 12 13 14 15]]\n",
      "\n",
      "The transpose turnes the 3x5 array into a 5x3 array:\n",
      "[[ 1  6 11]\n",
      " [ 2  7 12]\n",
      " [ 3  8 13]\n",
      " [ 4  9 14]\n",
      " [ 5 10 15]]\n"
     ]
    }
   ],
   "source": [
    "# creating a new array called arr\n",
    "#calling functions: \n",
    "# 1) np.arange function to generate 1D array of 15 elements \n",
    "# 2) np.reshape matrix function into a 3x5 2D array\n",
    "arr = np.arange(1,16).reshape(3,5)\n",
    "print(\"A 3x5 array looks as follows:\")\n",
    "print(arr) #print 3x5 array\n",
    "print()\n",
    "print(\"The transpose turnes the 3x5 array into a 5x3 array:\")\n",
    "print(arr.T) #applying the transpose method in order to swap the rows and columns of the array"
   ]
  },
  {
   "cell_type": "markdown",
   "metadata": {},
   "source": [
    "## Task 3\n",
    "Writing a Python/Numpy code block that removes common items from two seperate arrays."
   ]
  },
  {
   "cell_type": "code",
   "execution_count": 18,
   "metadata": {},
   "outputs": [
    {
     "name": "stdout",
     "output_type": "stream",
     "text": [
      "The new 1D array with values from array a that were distinct from array b are:\n",
      "[ 1  7  8 15]\n"
     ]
    }
   ],
   "source": [
    "# creating 2 new arrays\n",
    "a = np.array([12, 5, 7, 15, 3, 1, 8])\n",
    "b = np.array([14, 6, 3, 11, 19, 12, 5])\n",
    "\n",
    "result = np.setdiff1d(a,b) #calling the setdiff1d function that set difference between elements in a that are not in b\n",
    "print(\"The new 1D array with values from array a that were distinct from array b are:\")\n",
    "print(result) # print the results of the new array that contains only the values from array a that didn't exsist in array b"
   ]
  },
  {
   "cell_type": "markdown",
   "metadata": {},
   "source": [
    "## Task 4:\n",
    "Creating a new array that containes the cumulative number of miles of biking from NYC to Key West on a period of 35 days, with 4 days of rest (31). In order to bike from NYC to Key West, one must bike a total number of 1,519 miles."
   ]
  },
  {
   "cell_type": "code",
   "execution_count": 122,
   "metadata": {},
   "outputs": [
    {
     "name": "stdout",
     "output_type": "stream",
     "text": [
      "a new 1D array with 35 elements:\n",
      "[ 1  2  3  4  5  6  7  8  9 10 11 12 13 14 15 16 17 18 19 20 21 22 23 24\n",
      " 25 26 27 28 29 30 31 32 33 34 35]\n"
     ]
    }
   ],
   "source": [
    "#create a new array to specify the 35 days of the biking journy\n",
    "miles_per_day= np.arange(1,36) #calling the np.arange function to create a new array with 35 elements.\n",
    "print(\"a new 1D array with 35 elements:\")\n",
    "print(miles_per_day) #print the new array"
   ]
  },
  {
   "cell_type": "code",
   "execution_count": 125,
   "metadata": {},
   "outputs": [
    {
     "name": "stdout",
     "output_type": "stream",
     "text": [
      "The daily bike distance between NYC to Key West in 31 days is:\n",
      "49.0\n",
      "The daily bike distance including days off is:\n",
      "[49 49 49 49 49 49 49 49 49 49  0 49 49 49 49  0 49 49 49 49  0 49 49 49\n",
      " 49 49 49 49 49 49  0 49 49 49 49]\n"
     ]
    }
   ],
   "source": [
    "#setting miles value for each day of biking\n",
    "print(\"The daily bike distance between NYC to Key West in 31 days is:\")\n",
    "print(1519/31) #printing the value of the total distance dividing by the number of biking days\n",
    "miles_per_day[0:36]=49 #setting each day of biking to 49\n",
    "miles_per_day[10]=0 # setting days of rest, that eqaul 0 miles per day\n",
    "miles_per_day[15]=0\n",
    "miles_per_day[20]=0\n",
    "miles_per_day[30]=0\n",
    "print(\"The daily bike distance including days off is:\")\n",
    "print(miles_per_day) #printing the updated array that described the miles per day biked."
   ]
  },
  {
   "cell_type": "code",
   "execution_count": 126,
   "metadata": {},
   "outputs": [
    {
     "name": "stdout",
     "output_type": "stream",
     "text": [
      "The cumulative distance per day is:\n",
      "[  49   98  147  196  245  294  343  392  441  490  490  539  588  637\n",
      "  686  686  735  784  833  882  882  931  980 1029 1078 1127 1176 1225\n",
      " 1274 1323 1323 1372 1421 1470 1519]\n"
     ]
    }
   ],
   "source": [
    "# calculating the cumulative number of miles per day, creating a new array with the cumulative values\n",
    "cum_miles = miles_per_day.cumsum(0) #calling the cumsum function to calculate the sum per day over the 35 days\n",
    "print(\"The cumulative distance per day is:\")\n",
    "print(cum_miles) #printing the nre cumalitive array"
   ]
  },
  {
   "cell_type": "markdown",
   "metadata": {},
   "source": [
    "## Task 5:\n",
    "Importing a data set containing the NYC Water consumption and preform various mathematical and statistical operations using NumPy’s slicing, methods, and functions."
   ]
  },
  {
   "cell_type": "code",
   "execution_count": 57,
   "metadata": {},
   "outputs": [
    {
     "data": {
      "text/plain": [
       "numpy.ndarray"
      ]
     },
     "execution_count": 57,
     "metadata": {},
     "output_type": "execute_result"
    }
   ],
   "source": [
    "#importing pandas package\n",
    "import pandas\n",
    "\n",
    "# supress scientific notation\n",
    "np.set_printoptions(suppress = True)\n",
    "\n",
    "# read the data file from GitHub and convert to a NumPy ndarray object\n",
    "nyc_water = pandas.read_csv('https://raw.githubusercontent.com/jtopor/DAV-5400/master/Week4/Water_Consumption_In_The_New_York_City.csv').values\n",
    "\n",
    "# verify you have an ndarray object\n",
    "type(nyc_water)"
   ]
  },
  {
   "cell_type": "code",
   "execution_count": 58,
   "metadata": {},
   "outputs": [
    {
     "name": "stdout",
     "output_type": "stream",
     "text": [
      "[[   1979.  7102100.     1512.      213. ]\n",
      " [   1980.  7071639.     1506.      213. ]\n",
      " [   1981.  7089241.     1309.      185. ]\n",
      " [   1982.  7109105.     1382.      194. ]\n",
      " [   1983.  7181224.     1424.      198. ]\n",
      " [   1984.  7234514.     1465.      203. ]\n",
      " [   1985.  7274054.     1326.      182. ]\n",
      " [   1986.  7319246.     1351.      185. ]\n",
      " [   1987.  7342476.     1447.      197. ]\n",
      " [   1988.  7353719.     1484.      202. ]\n",
      " [   1989.  7344175.     1402.      191. ]\n",
      " [   1990.  7335650.     1424.      194. ]\n",
      " [   1991.  7374501.     1469.      199. ]\n",
      " [   1992.  7428944.     1369.      184. ]\n",
      " [   1993.  7506166.     1368.5     182. ]\n",
      " [   1994.  7570458.     1357.7     179. ]\n",
      " [   1995.  7633040.     1325.7     174. ]\n",
      " [   1996.  7697812.     1297.9     169. ]\n",
      " [   1997.  7773443.     1205.5     155. ]\n",
      " [   1998.  7858259.     1219.5     155. ]\n",
      " [   1999.  7947660.     1237.2     156. ]\n",
      " [   2000.  8008278.     1240.4     155. ]\n",
      " [   2001.  8024963.5    1184.      148. ]\n",
      " [   2002.  8041649.     1135.6     141. ]\n",
      " [   2003.  8058334.5    1093.7     136. ]\n",
      " [   2004.  8075020.     1099.5     136. ]\n",
      " [   2005.  8091705.5    1138.      141. ]\n",
      " [   2006.  8108391.     1069.      132. ]\n",
      " [   2007.  8125076.5    1114.      137. ]\n",
      " [   2008.  8141762.     1098.      135. ]\n",
      " [   2009.  8158447.5    1007.5     123. ]\n",
      " [   2010.  8175133.     1039.      127. ]\n",
      " [   2011.  8284098.     1021.      123. ]\n",
      " [   2012.  8361179.     1009.1     121. ]\n",
      " [   2013.  8422460.     1006.1     119. ]\n",
      " [   2014.  8471990.      996.      118. ]\n",
      " [   2015.  8516502.     1009.      118. ]\n",
      " [   2016.  8537673.     1002.      117. ]\n",
      " [   2017.  8622698.      990.2     115. ]]\n"
     ]
    }
   ],
   "source": [
    "#printing original data set\n",
    "print(nyc_water)"
   ]
  },
  {
   "cell_type": "code",
   "execution_count": 129,
   "metadata": {},
   "outputs": [
    {
     "name": "stdout",
     "output_type": "stream",
     "text": [
      "Year array:\n",
      "[1979. 1980. 1981. 1982. 1983. 1984. 1985. 1986. 1987. 1988. 1989. 1990.\n",
      " 1991. 1992. 1993. 1994. 1995. 1996. 1997. 1998. 1999. 2000. 2001. 2002.\n",
      " 2003. 2004. 2005. 2006. 2007. 2008. 2009. 2010. 2011. 2012. 2013. 2014.\n",
      " 2015. 2016. 2017.]\n"
     ]
    }
   ],
   "source": [
    "#creating new array that containes only the year values from the original set\n",
    "year=nyc_water[:,0] # defining new array as axis 0 = all rows that have an axis 1 values of 0\n",
    "print(\"Year array:\")\n",
    "print(year) #print new array"
   ]
  },
  {
   "cell_type": "code",
   "execution_count": 130,
   "metadata": {},
   "outputs": [
    {
     "name": "stdout",
     "output_type": "stream",
     "text": [
      "Nyc Population array:\n",
      "[7102100.  7071639.  7089241.  7109105.  7181224.  7234514.  7274054.\n",
      " 7319246.  7342476.  7353719.  7344175.  7335650.  7374501.  7428944.\n",
      " 7506166.  7570458.  7633040.  7697812.  7773443.  7858259.  7947660.\n",
      " 8008278.  8024963.5 8041649.  8058334.5 8075020.  8091705.5 8108391.\n",
      " 8125076.5 8141762.  8158447.5 8175133.  8284098.  8361179.  8422460.\n",
      " 8471990.  8516502.  8537673.  8622698. ]\n"
     ]
    }
   ],
   "source": [
    "#creating new array that containes only the nyc population values from the original set\n",
    "nyc_pop=nyc_water[:,1] # defining new array as axis 0 = all rows that have an axis 1 values of 1\n",
    "print(\"Nyc Population array:\")\n",
    "print(nyc_pop) #print new array"
   ]
  },
  {
   "cell_type": "code",
   "execution_count": 132,
   "metadata": {},
   "outputs": [
    {
     "name": "stdout",
     "output_type": "stream",
     "text": [
      "NYC water consumption in million gallons per day:\n",
      "[1512.  1506.  1309.  1382.  1424.  1465.  1326.  1351.  1447.  1484.\n",
      " 1402.  1424.  1469.  1369.  1368.5 1357.7 1325.7 1297.9 1205.5 1219.5\n",
      " 1237.2 1240.4 1184.  1135.6 1093.7 1099.5 1138.  1069.  1114.  1098.\n",
      " 1007.5 1039.  1021.  1009.1 1006.1  996.  1009.  1002.   990.2]\n"
     ]
    }
   ],
   "source": [
    "#creating new array that containes only the nyc water consumption values from the original set\n",
    "nyc_consumption=nyc_water[:,2]# defining new array as axis 0 = all rows that have an axis 1 values of 2\n",
    "print(\"NYC water consumption in million gallons per day:\")\n",
    "print(nyc_consumption) #print new array"
   ]
  },
  {
   "cell_type": "code",
   "execution_count": 133,
   "metadata": {},
   "outputs": [
    {
     "name": "stdout",
     "output_type": "stream",
     "text": [
      "NYC water consumption per capita:\n",
      "[213. 213. 185. 194. 198. 203. 182. 185. 197. 202. 191. 194. 199. 184.\n",
      " 182. 179. 174. 169. 155. 155. 156. 155. 148. 141. 136. 136. 141. 132.\n",
      " 137. 135. 123. 127. 123. 121. 119. 118. 118. 117. 115.]\n"
     ]
    }
   ],
   "source": [
    "#creating new array that containes only the nyc water consumption per calita values from the original set\n",
    "capita_consumption=nyc_water[:,3]# defining new array as axis 0 = all rows that have an axis 1 values of 3\n",
    "print(\"NYC water consumption per capita:\")\n",
    "print(capita_consumption) #print new aray"
   ]
  },
  {
   "cell_type": "markdown",
   "metadata": {},
   "source": [
    "Perperation work is complete- I now have 4 new seperate arrays that I can preform the calculations on more easily:"
   ]
  },
  {
   "cell_type": "code",
   "execution_count": 106,
   "metadata": {},
   "outputs": [
    {
     "name": "stdout",
     "output_type": "stream",
     "text": [
      "The yearly maximum water consumtion in NYC is:\n",
      "1512.0\n"
     ]
    }
   ],
   "source": [
    "#finding the maximum yearly NYC consumption of water in millions of gallons per day\n",
    "print(\"The yearly maximum water consumtion in NYC is:\")\n",
    "print (nyc_consumption.max()) #calling the max function on the nyc_consumption array and printing it"
   ]
  },
  {
   "cell_type": "code",
   "execution_count": 108,
   "metadata": {},
   "outputs": [
    {
     "name": "stdout",
     "output_type": "stream",
     "text": [
      "The data set represents the following number of calendar year:\n",
      "39\n"
     ]
    }
   ],
   "source": [
    "# Counting how many calendar years are represented within the data set\n",
    "print(\"The data set represents the following number of calendar year:\")\n",
    "print(year.shape[0]) # calling the shape function to find the number of elements in the year array and printing it"
   ]
  },
  {
   "cell_type": "code",
   "execution_count": 109,
   "metadata": {},
   "outputs": [
    {
     "name": "stdout",
     "output_type": "stream",
     "text": [
      "The average water consumption per capita in NYC is:\n",
      "160.30769230769232\n"
     ]
    }
   ],
   "source": [
    "# Calculating the average NYC water consumption per capita\n",
    "print(\"The average water consumption per capita in NYC is:\")\n",
    "print(capita_consumption.mean()) #calling the mean function to find the average value of the capita_consumption array and printing it"
   ]
  },
  {
   "cell_type": "code",
   "execution_count": 110,
   "metadata": {},
   "outputs": [
    {
     "name": "stdout",
     "output_type": "stream",
     "text": [
      "The standard deviation of water consumption per capita is:\n",
      "31.51894330370624\n"
     ]
    }
   ],
   "source": [
    "# Calculating the standard deviation of NYC water consumption per capita\n",
    "print(\"The standard deviation of water consumption per capita is:\")\n",
    "print(capita_consumption.std()) #calling the std function to find the standard deviation of the capita_consumption array and printing it"
   ]
  },
  {
   "cell_type": "code",
   "execution_count": 113,
   "metadata": {},
   "outputs": [
    {
     "name": "stdout",
     "output_type": "stream",
     "text": [
      "The yearly changes in NYC population between 1979 -2017 are:\n",
      "[-30461.   17602.   19864.   72119.   53290.   39540.   45192.   23230.\n",
      "  11243.   -9544.   -8525.   38851.   54443.   77222.   64292.   62582.\n",
      "  64772.   75631.   84816.   89401.   60618.   16685.5  16685.5  16685.5\n",
      "  16685.5  16685.5  16685.5  16685.5  16685.5  16685.5  16685.5 108965.\n",
      "  77081.   61281.   49530.   44512.   21171.   85025. ]\n"
     ]
    }
   ],
   "source": [
    "# Finding the values of increase or decrease of nyc population in the data set\n",
    "print(\"The yearly changes in NYC population between 1979 -2017 are:\")\n",
    "pop_diff = np.diff(nyc_pop) #calling the diff function to find the numerical differences between the values in the nyc_pop array\n",
    "print(pop_diff) # printing the new array pop_diff"
   ]
  }
 ],
 "metadata": {
  "kernelspec": {
   "display_name": "Python 3",
   "language": "python",
   "name": "python3"
  },
  "language_info": {
   "codemirror_mode": {
    "name": "ipython",
    "version": 3
   },
   "file_extension": ".py",
   "mimetype": "text/x-python",
   "name": "python",
   "nbconvert_exporter": "python",
   "pygments_lexer": "ipython3",
   "version": "3.8.3"
  }
 },
 "nbformat": 4,
 "nbformat_minor": 4
}
