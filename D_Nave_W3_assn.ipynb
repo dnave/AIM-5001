{
 "cells": [
  {
   "cell_type": "markdown",
   "metadata": {},
   "source": [
    "## Importing database:\n",
    "Impotring the database cars-sample35 from a designated location in my server. The database includes the raw information of 35 cars (Price, Maintenance Cost, Number of Doors, Number of Passengers, Luggage Capacity, Safety Rating, Classification of Vehicle)"
   ]
  },
  {
   "cell_type": "code",
   "execution_count": 75,
   "metadata": {},
   "outputs": [
    {
     "name": "stdout",
     "output_type": "stream",
     "text": [
      "['high', 'high', '2', '4', 'med', 'low', 'unacc']\n",
      "['high', 'high', '4', 'more', 'small', 'high', 'acc']\n",
      "['high', 'high', '4', 'more', 'big', 'low', 'unacc']\n",
      "['high', 'low', '2', 'more', 'big', 'high', 'acc']\n",
      "['vhigh', 'low', '3', '2', 'med', 'med', 'unacc']\n",
      "['low', 'high', '2', '2', 'small', 'low', 'unacc']\n",
      "['med', 'med', '4', 'more', 'med', 'high', 'vgood']\n",
      "['low', 'low', '3', '2', 'big', 'med', 'unacc']\n",
      "['vhigh', 'low', '2', '2', 'small', 'low', 'unacc']\n",
      "['vhigh', 'high', '4', '4', 'med', 'low', 'unacc']\n",
      "['low', 'low', '2', '2', 'med', 'med', 'unacc']\n",
      "['vhigh', 'low', '4', 'more', 'small', 'high', 'acc']\n",
      "['high', 'low', '2', '4', 'big', 'med', 'acc']\n",
      "['low', 'vhigh', '3', 'more', 'big', 'low', 'unacc']\n",
      "['high', 'low', '5more', '2', 'big', 'med', 'unacc']\n",
      "['vhigh', 'high', '2', 'more', 'med', 'high', 'unacc']\n",
      "['med', 'med', '2', '2', 'small', 'low', 'unacc']\n",
      "['high', 'low', '5more', '4', 'med', 'high', 'acc']\n",
      "['low', 'low', '3', 'more', 'med', 'high', 'vgood']\n",
      "['low', 'low', '2', '2', 'big', 'med', 'unacc']\n",
      "['med', 'high', '4', '2', 'big', 'high', 'unacc']\n",
      "['low', 'low', '2', '2', 'small', 'high', 'unacc']\n",
      "['vhigh', 'high', '5more', '4', 'med', 'med', 'unacc']\n",
      "['med', 'vhigh', '2', '2', 'big', 'low', 'unacc']\n",
      "['low', 'vhigh', '4', '4', 'big', 'low', 'unacc']\n",
      "['vhigh', 'low', '3', 'more', 'big', 'low', 'unacc']\n",
      "['med', 'vhigh', '3', '4', 'small', 'low', 'unacc']\n",
      "['high', 'high', '3', '4', 'med', 'med', 'unacc']\n",
      "['low', 'high', '5more', '2', 'big', 'low', 'unacc']\n",
      "['med', 'high', '5more', '2', 'med', 'med', 'unacc']\n",
      "['high', 'low', '3', '4', 'med', 'high', 'acc']\n",
      "['high', 'vhigh', '5more', '4', 'med', 'med', 'unacc']\n",
      "['low', 'low', '5more', '2', 'med', 'low', 'unacc']\n",
      "['vhigh', 'vhigh', '4', '2', 'big', 'high', 'unacc']\n",
      "['high', 'low', '3', '2', 'big', 'high', 'unacc']\n"
     ]
    }
   ],
   "source": [
    "import csv\n",
    "\n",
    "with open(r'C:\\Users\\danan\\OneDrive\\Desktop\\Yeshiva\\Fall 2020\\AIM 5001 Data Aquisition & Management\\Week 3/cars-sample35.txt') as csvfile:\n",
    " readCSV = csv.reader(csvfile)\n",
    " for row in readCSV:\n",
    "   # print each row as read by the csv.reader function\n",
    "   print(row)"
   ]
  },
  {
   "cell_type": "markdown",
   "metadata": {},
   "source": [
    "## Re-arranging the data:\n",
    "Converting the raw data into 7 lists according to car attributes mentioned above (i.e. Price, Maintenance Cost, Number of Doors, Number of Passengers, Luggage Capacity, Safety Rating, Classification of Vehicle)."
   ]
  },
  {
   "cell_type": "code",
   "execution_count": 76,
   "metadata": {},
   "outputs": [
    {
     "name": "stdout",
     "output_type": "stream",
     "text": [
      "Price:\n",
      "['high', 'high', 'high', 'high', 'vhigh', 'low', 'med', 'low', 'vhigh', 'vhigh', 'low', 'vhigh', 'high', 'low', 'high', 'vhigh', 'med', 'high', 'low', 'low', 'med', 'low', 'vhigh', 'med', 'low', 'vhigh', 'med', 'high', 'low', 'med', 'high', 'high', 'low', 'vhigh', 'high']\n",
      "Maintenance cost:\n",
      "['high', 'high', 'high', 'low', 'low', 'high', 'med', 'low', 'low', 'high', 'low', 'low', 'low', 'vhigh', 'low', 'high', 'med', 'low', 'low', 'low', 'high', 'low', 'high', 'vhigh', 'vhigh', 'low', 'vhigh', 'high', 'high', 'high', 'low', 'vhigh', 'low', 'vhigh', 'low']\n",
      "Number of doors:\n",
      "['2', '4', '4', '2', '3', '2', '4', '3', '2', '4', '2', '4', '2', '3', '5more', '2', '2', '5more', '3', '2', '4', '2', '5more', '2', '4', '3', '3', '3', '5more', '5more', '3', '5more', '5more', '4', '3']\n",
      "Number of passangers:\n",
      "['4', 'more', 'more', 'more', '2', '2', 'more', '2', '2', '4', '2', 'more', '4', 'more', '2', 'more', '2', '4', 'more', '2', '2', '2', '4', '2', '4', 'more', '4', '4', '2', '2', '4', '4', '2', '2', '2']\n",
      "Luggage capacity:\n",
      "['med', 'small', 'big', 'big', 'med', 'small', 'med', 'big', 'small', 'med', 'med', 'small', 'big', 'big', 'big', 'med', 'small', 'med', 'med', 'big', 'big', 'small', 'med', 'big', 'big', 'big', 'small', 'med', 'big', 'med', 'med', 'med', 'med', 'big', 'big']\n",
      "Safety rating:\n",
      "['low', 'high', 'low', 'high', 'med', 'low', 'high', 'med', 'low', 'low', 'med', 'high', 'med', 'low', 'med', 'high', 'low', 'high', 'high', 'med', 'high', 'high', 'med', 'low', 'low', 'low', 'low', 'med', 'low', 'med', 'high', 'med', 'low', 'high', 'high']\n",
      "Classification of vehicle:\n",
      "['unacc', 'acc', 'unacc', 'acc', 'unacc', 'unacc', 'vgood', 'unacc', 'unacc', 'unacc', 'unacc', 'acc', 'acc', 'unacc', 'unacc', 'unacc', 'unacc', 'acc', 'vgood', 'unacc', 'unacc', 'unacc', 'unacc', 'unacc', 'unacc', 'unacc', 'unacc', 'unacc', 'unacc', 'unacc', 'acc', 'unacc', 'unacc', 'unacc', 'unacc']\n"
     ]
    }
   ],
   "source": [
    "import csv\n",
    "\n",
    "# open the data from the relevant folder and define the new lists as instructed.\n",
    "with open(r'C:\\Users\\danan\\OneDrive\\Desktop\\Yeshiva\\Fall 2020\\AIM 5001 Data Aquisition & Management\\Week 3/cars-sample35.txt') as csvfile:\n",
    " readCSV = csv.reader(csvfile)\n",
    " Price=[]\n",
    " Maintenance_cost=[]\n",
    " Number_of_doors=[]\n",
    " Number_of_passengers=[]\n",
    " Luggage_capacity=[]\n",
    " Safety_rating=[]\n",
    " Classification_of_vehicle=[]\n",
    " for row in readCSV:\n",
    "\n",
    "# update each new list by defining the relevant index key in any of the original lists\n",
    "    Price.append(row[0])\n",
    "    Maintenance_cost.append(row[1])\n",
    "    Number_of_doors.append(row[2])\n",
    "    Number_of_passengers.append(row[3])\n",
    "    Luggage_capacity.append(row[4])\n",
    "    Safety_rating.append(row[5])\n",
    "    Classification_of_vehicle.append(row[6])\n",
    "    \n",
    "# print each list as read by the csv.reader function    \n",
    "print(\"Price:\")\n",
    "print(Price)\n",
    "print(\"Maintenance cost:\")\n",
    "print(Maintenance_cost)\n",
    "print(\"Number of doors:\")\n",
    "print(Number_of_doors)\n",
    "print(\"Number of passangers:\")\n",
    "print(Number_of_passengers)\n",
    "print(\"Luggage capacity:\")\n",
    "print(Luggage_capacity)\n",
    "print(\"Safety rating:\")\n",
    "print(Safety_rating)\n",
    "print(\"Classification of vehicle:\")\n",
    "print(Classification_of_vehicle)"
   ]
  },
  {
   "cell_type": "markdown",
   "metadata": {},
   "source": [
    "## Task 1:\n",
    "Converting a for loop into a single line code using a list comprehension. \n",
    "List comprehension which can be used as a method to simplify code and save time"
   ]
  },
  {
   "cell_type": "code",
   "execution_count": 77,
   "metadata": {},
   "outputs": [
    {
     "name": "stdout",
     "output_type": "stream",
     "text": [
      "[6, 16, 20, 23, 26, 29]\n"
     ]
    }
   ],
   "source": [
    "# Assigning to a new list, Med_Price, the index value (i), only when the element in the list Price equals 'med'  \n",
    "Med_Price=[i for i in range(len(Price)) if Price[i] == 'med']\n",
    "# printing the new list\n",
    "print(Med_Price)"
   ]
  },
  {
   "cell_type": "markdown",
   "metadata": {},
   "source": [
    "## Task 2:\n",
    "Converting a for loop into a list comprehension that is comprised of 2 variables from 2 different lists: Number of passengers and Price in order to find the index number of the Number of passengers that also have the Price value 'med'."
   ]
  },
  {
   "cell_type": "code",
   "execution_count": 78,
   "metadata": {},
   "outputs": [
    {
     "name": "stdout",
     "output_type": "stream",
     "text": [
      "['more', '2', '2', '2', '4', '2']\n"
     ]
    }
   ],
   "source": [
    "# Assigning to a new list, Med_Price_Passangers, the index value (i) of the list Number_of_passengers\n",
    "# only when the element in the list Price equals 'med'  \n",
    "Med_Price_Passengers=[Number_of_passengers[i] for i in range(len(Price)) if Price[i]=='med']\n",
    "# printing the new list\n",
    "print(Med_Price_Passengers)"
   ]
  },
  {
   "cell_type": "markdown",
   "metadata": {},
   "source": [
    "## Task 3:\n",
    "Converting a for loop into a list comprehension that is comprised of 2 variables from 2 different lists: Maintenence cost and Price in order to find the index numbers that are both Price 'high' and their Maintenance_cost is not low."
   ]
  },
  {
   "cell_type": "code",
   "execution_count": 79,
   "metadata": {},
   "outputs": [
    {
     "name": "stdout",
     "output_type": "stream",
     "text": [
      "[0, 1, 2, 27, 31]\n"
     ]
    }
   ],
   "source": [
    "# Assigning to a new list, High_price_maintenance, the index value (i) \n",
    "# only when the element in the list Price equals 'high' and the Maintenance_cost does not equal 'low'  \n",
    "High_price_maintenance=[i for i in range(len(Price)) if Price[i]=='high' and Maintenance_cost[i]!='low']\n",
    "# printing the new list\n",
    "print(High_price_maintenance)"
   ]
  },
  {
   "cell_type": "markdown",
   "metadata": {},
   "source": [
    "## Task 4:\n",
    "Converting a nested loop into a list comprehension called New_flist. The newlist will provide an identical result to the original nested loop. "
   ]
  },
  {
   "cell_type": "code",
   "execution_count": 80,
   "metadata": {},
   "outputs": [
    {
     "name": "stdout",
     "output_type": "stream",
     "text": [
      "The result of the nested loop:\n",
      "[1, 2, 3, 'A', 'B', 'C', 4, 5, 'D', 'E']\n",
      "\n",
      "The result of the comprehension list is:\n",
      "[1, 2, 3, 'A', 'B', 'C', 4, 5, 'D', 'E']\n"
     ]
    }
   ],
   "source": [
    "# denifition of a new list, nlist\n",
    "nlist = [ [1, 2, 3], ['A', 'B', 'C'], [4, 5], ['D', 'E'] ]\n",
    "\n",
    "#example of a nested loop for nlist\n",
    "flist = []\n",
    "for x in nlist:\n",
    " for y in x:\n",
    "    flist.append(y)\n",
    "print(\"The result of the nested loop:\")\n",
    "print(flist)\n",
    "print()\n",
    "\n",
    "#converting the nested loop into a list comprehention\n",
    "#creating a new list called New_flist\n",
    "# assisgning every element of the nested list, nlist to the list New_flist\n",
    "New_flist=[y for x in nlist for y in x]\n",
    "#printing the new list\n",
    "print(\"The result of the comprehension list is:\")\n",
    "print(New_flist)"
   ]
  },
  {
   "cell_type": "markdown",
   "metadata": {},
   "source": [
    "## Task 5:\n",
    "Defining a function that will create a new Dictionary. \n",
    "The function will accept a list as an input (mylist) in addition to an integer (x), which represents the length of the list. The function will return a new dict.\n",
    "The new dict's key will be comprised of the letter 'A' and the index number from the defined list. The new dict's value will be comprised of the ith element of the list.\n"
   ]
  },
  {
   "cell_type": "code",
   "execution_count": 81,
   "metadata": {},
   "outputs": [
    {
     "name": "stdout",
     "output_type": "stream",
     "text": [
      "{'A0': 'high', 'A1': 'high', 'A2': 'high', 'A3': 'high', 'A4': 'vhigh', 'A5': 'low', 'A6': 'med', 'A7': 'low', 'A8': 'vhigh', 'A9': 'vhigh', 'A10': 'low', 'A11': 'vhigh', 'A12': 'high', 'A13': 'low', 'A14': 'high', 'A15': 'vhigh', 'A16': 'med', 'A17': 'high', 'A18': 'low', 'A19': 'low', 'A20': 'med', 'A21': 'low', 'A22': 'vhigh', 'A23': 'med', 'A24': 'low', 'A25': 'vhigh', 'A26': 'med', 'A27': 'high', 'A28': 'low', 'A29': 'med', 'A30': 'high', 'A31': 'high', 'A32': 'low', 'A33': 'vhigh', 'A34': 'high'}\n"
     ]
    }
   ],
   "source": [
    "#defining the new function\n",
    "def makedict(mylist, x):\n",
    "    '''This function makedict accepts a list and an integer x, that can't be greater than the length of the list.\n",
    "       makedict returns a new dict which includes: \n",
    "        - key: a string letter 'A' + the list's index number\n",
    "        - value: a string element from the list\n",
    "    '''\n",
    "#defining a new, empty dict    \n",
    "    newdict = {}\n",
    "    if x <= len(mylist): # if x is smaller or equals the length of the list, continue\n",
    "        for i in range(x): # execute a loop as many times as x\n",
    "            key = 'A' + str(i) # assigning the variable key with a value representing the index of the list following the letter A\n",
    "            newdict[key] = mylist[i] # add key and value to newdict. the value is the ith element of the list\n",
    "    return(newdict) # the fuction returns the newdict \n",
    "# calling the fuction makedict, with the following parameters, and assigning the reutrned dict to the variable New_Price_Dict\n",
    "New_Price_Dict= makedict(Price,35)\n",
    "print(New_Price_Dict) #print the variable New_Price_Dict"
   ]
  },
  {
   "cell_type": "markdown",
   "metadata": {},
   "source": [
    "## Task 6:\n",
    "Calling the function makedict to show the first seven elements of the ‘Price’ and ‘Luggage_ capacity’ lists by creating new dict objects called Price_dict and Luggage_dict.\n",
    "\n",
    "Using these new dict objects to indicate the price and luggage capacity of the auto identified by the ‘A4’ key value."
   ]
  },
  {
   "cell_type": "code",
   "execution_count": 82,
   "metadata": {},
   "outputs": [
    {
     "name": "stdout",
     "output_type": "stream",
     "text": [
      "New dict with the first 7 items of the Price list:\n",
      "{'A0': 'high', 'A1': 'high', 'A2': 'high', 'A3': 'high', 'A4': 'vhigh', 'A5': 'low', 'A6': 'med'}\n",
      "\n",
      "New dict with the first 7 items of the Luggage Capacity list:\n",
      "{'A0': 'med', 'A1': 'small', 'A2': 'big', 'A3': 'big', 'A4': 'med', 'A5': 'small', 'A6': 'med'}\n",
      "\n",
      "The value of Price_dict index 'A4' is:\n",
      "vhigh\n",
      "\n",
      "The value of Buggage_dict index 'A4' is:\n",
      "med\n"
     ]
    }
   ],
   "source": [
    "# calling the fuction makedict, to receive the first 7 items in the Price list and assigning the returned dict to Price_dict \n",
    "Price_dict=makedict(Price, 7)\n",
    "print(\"New dict with the first 7 items of the Price list:\")\n",
    "print(Price_dict)\n",
    "print()\n",
    "# calling the fuction makedict, to receive the first 7 items in the Luggage_capacity list and assigning the returned dict to Price_dict \n",
    "Luggage_dict=makedict(Luggage_capacity, 7)\n",
    "print(\"New dict with the first 7 items of the Luggage Capacity list:\")\n",
    "print(Luggage_dict)\n",
    "print()\n",
    "\n",
    "# Receiving the value of the key 'A4' from both lists and printing it:\n",
    "print(\"The value of Price_dict index 'A4' is:\")\n",
    "print(Price_dict['A4'])\n",
    "print()\n",
    "print(\"The value of Buggage_dict index 'A4' is:\")\n",
    "print(Luggage_dict['A4'])"
   ]
  }
 ],
 "metadata": {
  "kernelspec": {
   "display_name": "Python 3",
   "language": "python",
   "name": "python3"
  },
  "language_info": {
   "codemirror_mode": {
    "name": "ipython",
    "version": 3
   },
   "file_extension": ".py",
   "mimetype": "text/x-python",
   "name": "python",
   "nbconvert_exporter": "python",
   "pygments_lexer": "ipython3",
   "version": "3.8.3"
  }
 },
 "nbformat": 4,
 "nbformat_minor": 4
}
